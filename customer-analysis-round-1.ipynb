{
 "cells": [
  {
   "cell_type": "markdown",
   "metadata": {},
   "source": [
    "# Customer Analysis Round 1"
   ]
  },
  {
   "cell_type": "markdown",
   "metadata": {},
   "source": [
    "* Read the three files into python as dataframes"
   ]
  },
  {
   "cell_type": "code",
   "execution_count": 2,
   "metadata": {},
   "outputs": [],
   "source": [
    "import pandas as pd\n",
    "\n",
    "import numpy as np"
   ]
  },
  {
   "cell_type": "code",
   "execution_count": 3,
   "metadata": {},
   "outputs": [],
   "source": [
    "df_1 = pd.read_csv('./files_for_lab/csv_files/file1.csv')\n",
    "df_2 = pd.read_csv('./files_for_lab/csv_files/file2.csv')\n",
    "df_3 = pd.read_csv('./files_for_lab/csv_files/file3.csv')"
   ]
  },
  {
   "cell_type": "markdown",
   "metadata": {},
   "source": [
    "* Show the DataFrame's shape."
   ]
  },
  {
   "cell_type": "code",
   "execution_count": 4,
   "metadata": {
    "tags": []
   },
   "outputs": [
    {
     "name": "stdout",
     "output_type": "stream",
     "text": [
      "(4008, 11)\n",
      "(996, 11)\n",
      "(7070, 11)\n"
     ]
    }
   ],
   "source": [
    "print(df_1.shape)\n",
    "print(df_2.shape)\n",
    "print(df_3.shape)"
   ]
  },
  {
   "cell_type": "markdown",
   "metadata": {
    "tags": []
   },
   "source": [
    "* Standardize header names."
   ]
  },
  {
   "cell_type": "code",
   "execution_count": 5,
   "metadata": {
    "tags": []
   },
   "outputs": [
    {
     "data": {
      "text/plain": [
       "Index(['Customer', 'ST', 'GENDER', 'Education', 'Customer Lifetime Value',\n",
       "       'Income', 'Monthly Premium Auto', 'Number of Open Complaints',\n",
       "       'Policy Type', 'Vehicle Class', 'Total Claim Amount'],\n",
       "      dtype='object')"
      ]
     },
     "execution_count": 5,
     "metadata": {},
     "output_type": "execute_result"
    }
   ],
   "source": [
    "df_1.columns"
   ]
  },
  {
   "cell_type": "code",
   "execution_count": 6,
   "metadata": {
    "tags": []
   },
   "outputs": [
    {
     "data": {
      "text/plain": [
       "Index(['Customer', 'ST', 'GENDER', 'Education', 'Customer Lifetime Value',\n",
       "       'Income', 'Monthly Premium Auto', 'Number of Open Complaints',\n",
       "       'Total Claim Amount', 'Policy Type', 'Vehicle Class'],\n",
       "      dtype='object')"
      ]
     },
     "execution_count": 6,
     "metadata": {},
     "output_type": "execute_result"
    }
   ],
   "source": [
    "df_2.columns"
   ]
  },
  {
   "cell_type": "code",
   "execution_count": 7,
   "metadata": {
    "tags": []
   },
   "outputs": [
    {
     "data": {
      "text/plain": [
       "Index(['Customer', 'State', 'Customer Lifetime Value', 'Education', 'Gender',\n",
       "       'Income', 'Monthly Premium Auto', 'Number of Open Complaints',\n",
       "       'Policy Type', 'Total Claim Amount', 'Vehicle Class'],\n",
       "      dtype='object')"
      ]
     },
     "execution_count": 7,
     "metadata": {},
     "output_type": "execute_result"
    }
   ],
   "source": [
    "df_3.columns"
   ]
  },
  {
   "cell_type": "code",
   "execution_count": 8,
   "metadata": {
    "tags": []
   },
   "outputs": [],
   "source": [
    "renamed_columns_df_1_2 = { \"ST\": \"State\", \"GENDER\": \"Gender\", \"Customer Lifetime Value\": \"Customer_Lifetime_Value\", \"Monthly Premium Auto\": \"Monthly_Premium_Auto\", \n",
    "                  \"Number of Open Complaints\": \"Number_Of_Open_Complaints\", \"Policy Type\": \"Policy_Type\", \"Total Claim Amount\": \"Total_Claim_Amount\",\n",
    "                  \"Vehicle Class\": \"Vehicle_Class\"}"
   ]
  },
  {
   "cell_type": "code",
   "execution_count": 9,
   "metadata": {
    "tags": []
   },
   "outputs": [],
   "source": [
    "renamed_columns_df_3 = { \"Customer Lifetime Value\": \"Customer_Lifetime_Value\", \"Monthly Premium Auto\": \"Monthly_Premium_Auto\", \n",
    "                  \"Number of Open Complaints\": \"Number_Of_Open_Complaints\", \"Policy Type\": \"Policy_Type\", \"Total Claim Amount\": \"Total_Claim_Amount\",\n",
    "                  \"Vehicle Class\": \"Vehicle_Class\"}"
   ]
  },
  {
   "cell_type": "code",
   "execution_count": 10,
   "metadata": {
    "tags": []
   },
   "outputs": [],
   "source": [
    "df_1.rename(columns=renamed_columns_df_1_2, inplace=True)"
   ]
  },
  {
   "cell_type": "code",
   "execution_count": 11,
   "metadata": {
    "tags": []
   },
   "outputs": [],
   "source": [
    "df_2.rename(columns=renamed_columns_df_1_2, inplace=True)"
   ]
  },
  {
   "cell_type": "code",
   "execution_count": 12,
   "metadata": {
    "tags": []
   },
   "outputs": [],
   "source": [
    "df_3.rename(columns=renamed_columns_df_3, inplace=True)"
   ]
  },
  {
   "cell_type": "code",
   "execution_count": 13,
   "metadata": {
    "tags": []
   },
   "outputs": [
    {
     "data": {
      "text/plain": [
       "Index(['Customer', 'State', 'Gender', 'Education', 'Customer_Lifetime_Value',\n",
       "       'Income', 'Monthly_Premium_Auto', 'Number_Of_Open_Complaints',\n",
       "       'Policy_Type', 'Vehicle_Class', 'Total_Claim_Amount'],\n",
       "      dtype='object')"
      ]
     },
     "execution_count": 13,
     "metadata": {},
     "output_type": "execute_result"
    }
   ],
   "source": [
    "df_1.columns"
   ]
  },
  {
   "cell_type": "code",
   "execution_count": 14,
   "metadata": {
    "tags": []
   },
   "outputs": [
    {
     "data": {
      "text/plain": [
       "Index(['Customer', 'State', 'Gender', 'Education', 'Customer_Lifetime_Value',\n",
       "       'Income', 'Monthly_Premium_Auto', 'Number_Of_Open_Complaints',\n",
       "       'Total_Claim_Amount', 'Policy_Type', 'Vehicle_Class'],\n",
       "      dtype='object')"
      ]
     },
     "execution_count": 14,
     "metadata": {},
     "output_type": "execute_result"
    }
   ],
   "source": [
    "df_2.columns"
   ]
  },
  {
   "cell_type": "code",
   "execution_count": 15,
   "metadata": {
    "tags": []
   },
   "outputs": [
    {
     "data": {
      "text/plain": [
       "Index(['Customer', 'State', 'Customer_Lifetime_Value', 'Education', 'Gender',\n",
       "       'Income', 'Monthly_Premium_Auto', 'Number_Of_Open_Complaints',\n",
       "       'Policy_Type', 'Total_Claim_Amount', 'Vehicle_Class'],\n",
       "      dtype='object')"
      ]
     },
     "execution_count": 15,
     "metadata": {},
     "output_type": "execute_result"
    }
   ],
   "source": [
    "df_3.columns"
   ]
  },
  {
   "cell_type": "markdown",
   "metadata": {},
   "source": [
    "* Rearrange the columns in the dataframe as needed"
   ]
  },
  {
   "cell_type": "code",
   "execution_count": 16,
   "metadata": {
    "tags": []
   },
   "outputs": [
    {
     "data": {
      "text/html": [
       "<div>\n",
       "<style scoped>\n",
       "    .dataframe tbody tr th:only-of-type {\n",
       "        vertical-align: middle;\n",
       "    }\n",
       "\n",
       "    .dataframe tbody tr th {\n",
       "        vertical-align: top;\n",
       "    }\n",
       "\n",
       "    .dataframe thead th {\n",
       "        text-align: right;\n",
       "    }\n",
       "</style>\n",
       "<table border=\"1\" class=\"dataframe\">\n",
       "  <thead>\n",
       "    <tr style=\"text-align: right;\">\n",
       "      <th></th>\n",
       "      <th>Customer</th>\n",
       "      <th>State</th>\n",
       "      <th>Gender</th>\n",
       "      <th>Education</th>\n",
       "      <th>Customer_Lifetime_Value</th>\n",
       "      <th>Income</th>\n",
       "      <th>Monthly_Premium_Auto</th>\n",
       "      <th>Number_Of_Open_Complaints</th>\n",
       "      <th>Policy_Type</th>\n",
       "      <th>Vehicle_Class</th>\n",
       "      <th>Total_Claim_Amount</th>\n",
       "    </tr>\n",
       "  </thead>\n",
       "  <tbody>\n",
       "    <tr>\n",
       "      <th>0</th>\n",
       "      <td>RB50392</td>\n",
       "      <td>Washington</td>\n",
       "      <td>NaN</td>\n",
       "      <td>Master</td>\n",
       "      <td>NaN</td>\n",
       "      <td>0.0</td>\n",
       "      <td>1000.0</td>\n",
       "      <td>1/0/00</td>\n",
       "      <td>Personal Auto</td>\n",
       "      <td>Four-Door Car</td>\n",
       "      <td>2.704934</td>\n",
       "    </tr>\n",
       "    <tr>\n",
       "      <th>1</th>\n",
       "      <td>QZ44356</td>\n",
       "      <td>Arizona</td>\n",
       "      <td>F</td>\n",
       "      <td>Bachelor</td>\n",
       "      <td>697953.59%</td>\n",
       "      <td>0.0</td>\n",
       "      <td>94.0</td>\n",
       "      <td>1/0/00</td>\n",
       "      <td>Personal Auto</td>\n",
       "      <td>Four-Door Car</td>\n",
       "      <td>1131.464935</td>\n",
       "    </tr>\n",
       "  </tbody>\n",
       "</table>\n",
       "</div>"
      ],
      "text/plain": [
       "  Customer       State Gender Education Customer_Lifetime_Value  Income  \\\n",
       "0  RB50392  Washington    NaN    Master                     NaN     0.0   \n",
       "1  QZ44356     Arizona      F  Bachelor              697953.59%     0.0   \n",
       "\n",
       "   Monthly_Premium_Auto Number_Of_Open_Complaints    Policy_Type  \\\n",
       "0                1000.0                    1/0/00  Personal Auto   \n",
       "1                  94.0                    1/0/00  Personal Auto   \n",
       "\n",
       "   Vehicle_Class  Total_Claim_Amount  \n",
       "0  Four-Door Car            2.704934  \n",
       "1  Four-Door Car         1131.464935  "
      ]
     },
     "execution_count": 16,
     "metadata": {},
     "output_type": "execute_result"
    }
   ],
   "source": [
    "df_1.head(2)"
   ]
  },
  {
   "cell_type": "code",
   "execution_count": 17,
   "metadata": {
    "tags": []
   },
   "outputs": [],
   "source": [
    "ordered_columns = ['Customer', 'Customer_Lifetime_Value', 'Gender', 'Education', 'State', 'Policy_Type',\n",
    "       'Vehicle_Class', 'Income', 'Total_Claim_Amount', 'Monthly_Premium_Auto', 'Number_Of_Open_Complaints']"
   ]
  },
  {
   "cell_type": "code",
   "execution_count": 18,
   "metadata": {
    "tags": []
   },
   "outputs": [],
   "source": [
    "df_1 = df_1[ordered_columns]"
   ]
  },
  {
   "cell_type": "code",
   "execution_count": 19,
   "metadata": {
    "tags": []
   },
   "outputs": [],
   "source": [
    "df_2 = df_2[ordered_columns]"
   ]
  },
  {
   "cell_type": "code",
   "execution_count": 20,
   "metadata": {
    "tags": []
   },
   "outputs": [],
   "source": [
    "df_3 = df_3[ordered_columns]"
   ]
  },
  {
   "cell_type": "code",
   "execution_count": 21,
   "metadata": {
    "tags": []
   },
   "outputs": [
    {
     "data": {
      "text/html": [
       "<div>\n",
       "<style scoped>\n",
       "    .dataframe tbody tr th:only-of-type {\n",
       "        vertical-align: middle;\n",
       "    }\n",
       "\n",
       "    .dataframe tbody tr th {\n",
       "        vertical-align: top;\n",
       "    }\n",
       "\n",
       "    .dataframe thead th {\n",
       "        text-align: right;\n",
       "    }\n",
       "</style>\n",
       "<table border=\"1\" class=\"dataframe\">\n",
       "  <thead>\n",
       "    <tr style=\"text-align: right;\">\n",
       "      <th></th>\n",
       "      <th>Customer</th>\n",
       "      <th>Customer_Lifetime_Value</th>\n",
       "      <th>Gender</th>\n",
       "      <th>Education</th>\n",
       "      <th>State</th>\n",
       "      <th>Policy_Type</th>\n",
       "      <th>Vehicle_Class</th>\n",
       "      <th>Income</th>\n",
       "      <th>Total_Claim_Amount</th>\n",
       "      <th>Monthly_Premium_Auto</th>\n",
       "      <th>Number_Of_Open_Complaints</th>\n",
       "    </tr>\n",
       "  </thead>\n",
       "  <tbody>\n",
       "    <tr>\n",
       "      <th>0</th>\n",
       "      <td>RB50392</td>\n",
       "      <td>NaN</td>\n",
       "      <td>NaN</td>\n",
       "      <td>Master</td>\n",
       "      <td>Washington</td>\n",
       "      <td>Personal Auto</td>\n",
       "      <td>Four-Door Car</td>\n",
       "      <td>0.0</td>\n",
       "      <td>2.704934</td>\n",
       "      <td>1000.0</td>\n",
       "      <td>1/0/00</td>\n",
       "    </tr>\n",
       "  </tbody>\n",
       "</table>\n",
       "</div>"
      ],
      "text/plain": [
       "  Customer Customer_Lifetime_Value Gender Education       State  \\\n",
       "0  RB50392                     NaN    NaN    Master  Washington   \n",
       "\n",
       "     Policy_Type  Vehicle_Class  Income  Total_Claim_Amount  \\\n",
       "0  Personal Auto  Four-Door Car     0.0            2.704934   \n",
       "\n",
       "   Monthly_Premium_Auto Number_Of_Open_Complaints  \n",
       "0                1000.0                    1/0/00  "
      ]
     },
     "execution_count": 21,
     "metadata": {},
     "output_type": "execute_result"
    }
   ],
   "source": [
    "df_1.head(1)"
   ]
  },
  {
   "cell_type": "code",
   "execution_count": 22,
   "metadata": {
    "tags": []
   },
   "outputs": [
    {
     "data": {
      "text/html": [
       "<div>\n",
       "<style scoped>\n",
       "    .dataframe tbody tr th:only-of-type {\n",
       "        vertical-align: middle;\n",
       "    }\n",
       "\n",
       "    .dataframe tbody tr th {\n",
       "        vertical-align: top;\n",
       "    }\n",
       "\n",
       "    .dataframe thead th {\n",
       "        text-align: right;\n",
       "    }\n",
       "</style>\n",
       "<table border=\"1\" class=\"dataframe\">\n",
       "  <thead>\n",
       "    <tr style=\"text-align: right;\">\n",
       "      <th></th>\n",
       "      <th>Customer</th>\n",
       "      <th>Customer_Lifetime_Value</th>\n",
       "      <th>Gender</th>\n",
       "      <th>Education</th>\n",
       "      <th>State</th>\n",
       "      <th>Policy_Type</th>\n",
       "      <th>Vehicle_Class</th>\n",
       "      <th>Income</th>\n",
       "      <th>Total_Claim_Amount</th>\n",
       "      <th>Monthly_Premium_Auto</th>\n",
       "      <th>Number_Of_Open_Complaints</th>\n",
       "    </tr>\n",
       "  </thead>\n",
       "  <tbody>\n",
       "    <tr>\n",
       "      <th>0</th>\n",
       "      <td>GS98873</td>\n",
       "      <td>323912.47%</td>\n",
       "      <td>F</td>\n",
       "      <td>Bachelor</td>\n",
       "      <td>Arizona</td>\n",
       "      <td>Personal Auto</td>\n",
       "      <td>Four-Door Car</td>\n",
       "      <td>16061</td>\n",
       "      <td>633.6</td>\n",
       "      <td>88</td>\n",
       "      <td>1/0/00</td>\n",
       "    </tr>\n",
       "  </tbody>\n",
       "</table>\n",
       "</div>"
      ],
      "text/plain": [
       "  Customer Customer_Lifetime_Value Gender Education    State    Policy_Type  \\\n",
       "0  GS98873              323912.47%      F  Bachelor  Arizona  Personal Auto   \n",
       "\n",
       "   Vehicle_Class  Income  Total_Claim_Amount  Monthly_Premium_Auto  \\\n",
       "0  Four-Door Car   16061               633.6                    88   \n",
       "\n",
       "  Number_Of_Open_Complaints  \n",
       "0                    1/0/00  "
      ]
     },
     "execution_count": 22,
     "metadata": {},
     "output_type": "execute_result"
    }
   ],
   "source": [
    "df_2.head(1)"
   ]
  },
  {
   "cell_type": "code",
   "execution_count": 23,
   "metadata": {
    "tags": []
   },
   "outputs": [
    {
     "data": {
      "text/html": [
       "<div>\n",
       "<style scoped>\n",
       "    .dataframe tbody tr th:only-of-type {\n",
       "        vertical-align: middle;\n",
       "    }\n",
       "\n",
       "    .dataframe tbody tr th {\n",
       "        vertical-align: top;\n",
       "    }\n",
       "\n",
       "    .dataframe thead th {\n",
       "        text-align: right;\n",
       "    }\n",
       "</style>\n",
       "<table border=\"1\" class=\"dataframe\">\n",
       "  <thead>\n",
       "    <tr style=\"text-align: right;\">\n",
       "      <th></th>\n",
       "      <th>Customer</th>\n",
       "      <th>Customer_Lifetime_Value</th>\n",
       "      <th>Gender</th>\n",
       "      <th>Education</th>\n",
       "      <th>State</th>\n",
       "      <th>Policy_Type</th>\n",
       "      <th>Vehicle_Class</th>\n",
       "      <th>Income</th>\n",
       "      <th>Total_Claim_Amount</th>\n",
       "      <th>Monthly_Premium_Auto</th>\n",
       "      <th>Number_Of_Open_Complaints</th>\n",
       "    </tr>\n",
       "  </thead>\n",
       "  <tbody>\n",
       "    <tr>\n",
       "      <th>0</th>\n",
       "      <td>SA25987</td>\n",
       "      <td>3479.137523</td>\n",
       "      <td>M</td>\n",
       "      <td>High School or Below</td>\n",
       "      <td>Washington</td>\n",
       "      <td>Personal Auto</td>\n",
       "      <td>Two-Door Car</td>\n",
       "      <td>0</td>\n",
       "      <td>499.2</td>\n",
       "      <td>104</td>\n",
       "      <td>0</td>\n",
       "    </tr>\n",
       "  </tbody>\n",
       "</table>\n",
       "</div>"
      ],
      "text/plain": [
       "  Customer  Customer_Lifetime_Value Gender             Education       State  \\\n",
       "0  SA25987              3479.137523      M  High School or Below  Washington   \n",
       "\n",
       "     Policy_Type Vehicle_Class  Income  Total_Claim_Amount  \\\n",
       "0  Personal Auto  Two-Door Car       0               499.2   \n",
       "\n",
       "   Monthly_Premium_Auto  Number_Of_Open_Complaints  \n",
       "0                   104                          0  "
      ]
     },
     "execution_count": 23,
     "metadata": {},
     "output_type": "execute_result"
    }
   ],
   "source": [
    "df_3.head(1)"
   ]
  },
  {
   "cell_type": "markdown",
   "metadata": {},
   "source": [
    "* Concatenate the three dataframes"
   ]
  },
  {
   "cell_type": "code",
   "execution_count": 24,
   "metadata": {
    "tags": []
   },
   "outputs": [],
   "source": [
    "df = pd.concat([df_1, df_2, df_3])"
   ]
  },
  {
   "cell_type": "code",
   "execution_count": 25,
   "metadata": {
    "tags": []
   },
   "outputs": [
    {
     "data": {
      "text/html": [
       "<div>\n",
       "<style scoped>\n",
       "    .dataframe tbody tr th:only-of-type {\n",
       "        vertical-align: middle;\n",
       "    }\n",
       "\n",
       "    .dataframe tbody tr th {\n",
       "        vertical-align: top;\n",
       "    }\n",
       "\n",
       "    .dataframe thead th {\n",
       "        text-align: right;\n",
       "    }\n",
       "</style>\n",
       "<table border=\"1\" class=\"dataframe\">\n",
       "  <thead>\n",
       "    <tr style=\"text-align: right;\">\n",
       "      <th></th>\n",
       "      <th>Customer</th>\n",
       "      <th>Customer_Lifetime_Value</th>\n",
       "      <th>Gender</th>\n",
       "      <th>Education</th>\n",
       "      <th>State</th>\n",
       "      <th>Policy_Type</th>\n",
       "      <th>Vehicle_Class</th>\n",
       "      <th>Income</th>\n",
       "      <th>Total_Claim_Amount</th>\n",
       "      <th>Monthly_Premium_Auto</th>\n",
       "      <th>Number_Of_Open_Complaints</th>\n",
       "    </tr>\n",
       "  </thead>\n",
       "  <tbody>\n",
       "    <tr>\n",
       "      <th>0</th>\n",
       "      <td>RB50392</td>\n",
       "      <td>NaN</td>\n",
       "      <td>NaN</td>\n",
       "      <td>Master</td>\n",
       "      <td>Washington</td>\n",
       "      <td>Personal Auto</td>\n",
       "      <td>Four-Door Car</td>\n",
       "      <td>0.0</td>\n",
       "      <td>2.704934</td>\n",
       "      <td>1000.0</td>\n",
       "      <td>1/0/00</td>\n",
       "    </tr>\n",
       "    <tr>\n",
       "      <th>1</th>\n",
       "      <td>QZ44356</td>\n",
       "      <td>697953.59%</td>\n",
       "      <td>F</td>\n",
       "      <td>Bachelor</td>\n",
       "      <td>Arizona</td>\n",
       "      <td>Personal Auto</td>\n",
       "      <td>Four-Door Car</td>\n",
       "      <td>0.0</td>\n",
       "      <td>1131.464935</td>\n",
       "      <td>94.0</td>\n",
       "      <td>1/0/00</td>\n",
       "    </tr>\n",
       "    <tr>\n",
       "      <th>2</th>\n",
       "      <td>AI49188</td>\n",
       "      <td>1288743.17%</td>\n",
       "      <td>F</td>\n",
       "      <td>Bachelor</td>\n",
       "      <td>Nevada</td>\n",
       "      <td>Personal Auto</td>\n",
       "      <td>Two-Door Car</td>\n",
       "      <td>48767.0</td>\n",
       "      <td>566.472247</td>\n",
       "      <td>108.0</td>\n",
       "      <td>1/0/00</td>\n",
       "    </tr>\n",
       "  </tbody>\n",
       "</table>\n",
       "</div>"
      ],
      "text/plain": [
       "  Customer Customer_Lifetime_Value Gender Education       State  \\\n",
       "0  RB50392                     NaN    NaN    Master  Washington   \n",
       "1  QZ44356              697953.59%      F  Bachelor     Arizona   \n",
       "2  AI49188             1288743.17%      F  Bachelor      Nevada   \n",
       "\n",
       "     Policy_Type  Vehicle_Class   Income  Total_Claim_Amount  \\\n",
       "0  Personal Auto  Four-Door Car      0.0            2.704934   \n",
       "1  Personal Auto  Four-Door Car      0.0         1131.464935   \n",
       "2  Personal Auto   Two-Door Car  48767.0          566.472247   \n",
       "\n",
       "   Monthly_Premium_Auto Number_Of_Open_Complaints  \n",
       "0                1000.0                    1/0/00  \n",
       "1                  94.0                    1/0/00  \n",
       "2                 108.0                    1/0/00  "
      ]
     },
     "execution_count": 25,
     "metadata": {},
     "output_type": "execute_result"
    }
   ],
   "source": [
    "df.head(3)"
   ]
  },
  {
   "cell_type": "code",
   "execution_count": 26,
   "metadata": {
    "tags": []
   },
   "outputs": [
    {
     "data": {
      "text/plain": [
       "(12074, 11)"
      ]
     },
     "execution_count": 26,
     "metadata": {},
     "output_type": "execute_result"
    }
   ],
   "source": [
    "df.shape"
   ]
  },
  {
   "cell_type": "code",
   "execution_count": 27,
   "metadata": {
    "tags": []
   },
   "outputs": [
    {
     "data": {
      "text/plain": [
       "Customer                      object\n",
       "Customer_Lifetime_Value       object\n",
       "Gender                        object\n",
       "Education                     object\n",
       "State                         object\n",
       "Policy_Type                   object\n",
       "Vehicle_Class                 object\n",
       "Income                       float64\n",
       "Total_Claim_Amount           float64\n",
       "Monthly_Premium_Auto         float64\n",
       "Number_Of_Open_Complaints     object\n",
       "dtype: object"
      ]
     },
     "execution_count": 27,
     "metadata": {},
     "output_type": "execute_result"
    }
   ],
   "source": [
    "df.dtypes"
   ]
  },
  {
   "cell_type": "markdown",
   "metadata": {},
   "source": [
    "* Which columns are numerical?"
   ]
  },
  {
   "cell_type": "markdown",
   "metadata": {},
   "source": [
    "1. Customer_Lifetime_Value\n",
    "2. Income\n",
    "3. Total_Claim_Amount\n",
    "4. Monthly_Premium_Auto"
   ]
  },
  {
   "cell_type": "markdown",
   "metadata": {},
   "source": [
    "* Which columns are categorical?"
   ]
  },
  {
   "cell_type": "markdown",
   "metadata": {},
   "source": [
    "1. Customer\n",
    "2. Gender\n",
    "3. Education\n",
    "4. State\n",
    "5. Policy_Type\n",
    "6. Vehicle_Class\n",
    "7. Number_Of_Open_Complaints"
   ]
  },
  {
   "cell_type": "markdown",
   "metadata": {
    "tags": []
   },
   "source": [
    "* Understand the meaning of all columns"
   ]
  },
  {
   "cell_type": "markdown",
   "metadata": {},
   "source": [
    "* Perform the data cleaning operations mentioned so far in class"
   ]
  },
  {
   "cell_type": "markdown",
   "metadata": {},
   "source": [
    "    * Delete the column education and the number of open complaints from the dataframe."
   ]
  },
  {
   "cell_type": "code",
   "execution_count": 28,
   "metadata": {
    "tags": []
   },
   "outputs": [],
   "source": [
    "df.drop(columns=['Education', 'Number_Of_Open_Complaints'], inplace=True)"
   ]
  },
  {
   "cell_type": "code",
   "execution_count": 29,
   "metadata": {
    "tags": []
   },
   "outputs": [
    {
     "data": {
      "text/plain": [
       "Index(['Customer', 'Customer_Lifetime_Value', 'Gender', 'State', 'Policy_Type',\n",
       "       'Vehicle_Class', 'Income', 'Total_Claim_Amount',\n",
       "       'Monthly_Premium_Auto'],\n",
       "      dtype='object')"
      ]
     },
     "execution_count": 29,
     "metadata": {},
     "output_type": "execute_result"
    }
   ],
   "source": [
    "df.columns"
   ]
  },
  {
   "cell_type": "markdown",
   "metadata": {},
   "source": [
    "    * Correct the values in the column customer lifetime value. They are given as a percent, so multiply them by 100 and change dtype to numerical type."
   ]
  },
  {
   "cell_type": "code",
   "execution_count": 30,
   "metadata": {
    "tags": []
   },
   "outputs": [
    {
     "data": {
      "text/plain": [
       "Customer                    object\n",
       "Customer_Lifetime_Value     object\n",
       "Gender                      object\n",
       "State                       object\n",
       "Policy_Type                 object\n",
       "Vehicle_Class               object\n",
       "Income                     float64\n",
       "Total_Claim_Amount         float64\n",
       "Monthly_Premium_Auto       float64\n",
       "dtype: object"
      ]
     },
     "execution_count": 30,
     "metadata": {},
     "output_type": "execute_result"
    }
   ],
   "source": [
    "df.dtypes"
   ]
  },
  {
   "cell_type": "code",
   "execution_count": 31,
   "metadata": {
    "tags": []
   },
   "outputs": [],
   "source": [
    "df['Customer_Lifetime_Value'] = df['Customer_Lifetime_Value'].str.replace('%', '')"
   ]
  },
  {
   "cell_type": "code",
   "execution_count": 32,
   "metadata": {
    "tags": []
   },
   "outputs": [
    {
     "data": {
      "text/html": [
       "<div>\n",
       "<style scoped>\n",
       "    .dataframe tbody tr th:only-of-type {\n",
       "        vertical-align: middle;\n",
       "    }\n",
       "\n",
       "    .dataframe tbody tr th {\n",
       "        vertical-align: top;\n",
       "    }\n",
       "\n",
       "    .dataframe thead th {\n",
       "        text-align: right;\n",
       "    }\n",
       "</style>\n",
       "<table border=\"1\" class=\"dataframe\">\n",
       "  <thead>\n",
       "    <tr style=\"text-align: right;\">\n",
       "      <th></th>\n",
       "      <th>Customer</th>\n",
       "      <th>Customer_Lifetime_Value</th>\n",
       "      <th>Gender</th>\n",
       "      <th>State</th>\n",
       "      <th>Policy_Type</th>\n",
       "      <th>Vehicle_Class</th>\n",
       "      <th>Income</th>\n",
       "      <th>Total_Claim_Amount</th>\n",
       "      <th>Monthly_Premium_Auto</th>\n",
       "    </tr>\n",
       "  </thead>\n",
       "  <tbody>\n",
       "    <tr>\n",
       "      <th>0</th>\n",
       "      <td>RB50392</td>\n",
       "      <td>NaN</td>\n",
       "      <td>NaN</td>\n",
       "      <td>Washington</td>\n",
       "      <td>Personal Auto</td>\n",
       "      <td>Four-Door Car</td>\n",
       "      <td>0.0</td>\n",
       "      <td>2.704934</td>\n",
       "      <td>1000.0</td>\n",
       "    </tr>\n",
       "    <tr>\n",
       "      <th>1</th>\n",
       "      <td>QZ44356</td>\n",
       "      <td>697953.59</td>\n",
       "      <td>F</td>\n",
       "      <td>Arizona</td>\n",
       "      <td>Personal Auto</td>\n",
       "      <td>Four-Door Car</td>\n",
       "      <td>0.0</td>\n",
       "      <td>1131.464935</td>\n",
       "      <td>94.0</td>\n",
       "    </tr>\n",
       "    <tr>\n",
       "      <th>2</th>\n",
       "      <td>AI49188</td>\n",
       "      <td>1288743.17</td>\n",
       "      <td>F</td>\n",
       "      <td>Nevada</td>\n",
       "      <td>Personal Auto</td>\n",
       "      <td>Two-Door Car</td>\n",
       "      <td>48767.0</td>\n",
       "      <td>566.472247</td>\n",
       "      <td>108.0</td>\n",
       "    </tr>\n",
       "    <tr>\n",
       "      <th>3</th>\n",
       "      <td>WW63253</td>\n",
       "      <td>764586.18</td>\n",
       "      <td>M</td>\n",
       "      <td>California</td>\n",
       "      <td>Corporate Auto</td>\n",
       "      <td>SUV</td>\n",
       "      <td>0.0</td>\n",
       "      <td>529.881344</td>\n",
       "      <td>106.0</td>\n",
       "    </tr>\n",
       "    <tr>\n",
       "      <th>4</th>\n",
       "      <td>GA49547</td>\n",
       "      <td>536307.65</td>\n",
       "      <td>M</td>\n",
       "      <td>Washington</td>\n",
       "      <td>Personal Auto</td>\n",
       "      <td>Four-Door Car</td>\n",
       "      <td>36357.0</td>\n",
       "      <td>17.269323</td>\n",
       "      <td>68.0</td>\n",
       "    </tr>\n",
       "  </tbody>\n",
       "</table>\n",
       "</div>"
      ],
      "text/plain": [
       "  Customer Customer_Lifetime_Value Gender       State     Policy_Type  \\\n",
       "0  RB50392                     NaN    NaN  Washington   Personal Auto   \n",
       "1  QZ44356               697953.59      F     Arizona   Personal Auto   \n",
       "2  AI49188              1288743.17      F      Nevada   Personal Auto   \n",
       "3  WW63253               764586.18      M  California  Corporate Auto   \n",
       "4  GA49547               536307.65      M  Washington   Personal Auto   \n",
       "\n",
       "   Vehicle_Class   Income  Total_Claim_Amount  Monthly_Premium_Auto  \n",
       "0  Four-Door Car      0.0            2.704934                1000.0  \n",
       "1  Four-Door Car      0.0         1131.464935                  94.0  \n",
       "2   Two-Door Car  48767.0          566.472247                 108.0  \n",
       "3            SUV      0.0          529.881344                 106.0  \n",
       "4  Four-Door Car  36357.0           17.269323                  68.0  "
      ]
     },
     "execution_count": 32,
     "metadata": {},
     "output_type": "execute_result"
    }
   ],
   "source": [
    "df.head(5)"
   ]
  },
  {
   "cell_type": "code",
   "execution_count": 33,
   "metadata": {
    "tags": []
   },
   "outputs": [],
   "source": [
    "df['Customer_Lifetime_Value'] = df['Customer_Lifetime_Value'].astype('float64')"
   ]
  },
  {
   "cell_type": "code",
   "execution_count": 34,
   "metadata": {
    "tags": []
   },
   "outputs": [
    {
     "data": {
      "text/plain": [
       "Customer                    object\n",
       "Customer_Lifetime_Value    float64\n",
       "Gender                      object\n",
       "State                       object\n",
       "Policy_Type                 object\n",
       "Vehicle_Class               object\n",
       "Income                     float64\n",
       "Total_Claim_Amount         float64\n",
       "Monthly_Premium_Auto       float64\n",
       "dtype: object"
      ]
     },
     "execution_count": 34,
     "metadata": {},
     "output_type": "execute_result"
    }
   ],
   "source": [
    "df.dtypes"
   ]
  },
  {
   "cell_type": "code",
   "execution_count": 35,
   "metadata": {
    "tags": []
   },
   "outputs": [
    {
     "data": {
      "text/html": [
       "<div>\n",
       "<style scoped>\n",
       "    .dataframe tbody tr th:only-of-type {\n",
       "        vertical-align: middle;\n",
       "    }\n",
       "\n",
       "    .dataframe tbody tr th {\n",
       "        vertical-align: top;\n",
       "    }\n",
       "\n",
       "    .dataframe thead th {\n",
       "        text-align: right;\n",
       "    }\n",
       "</style>\n",
       "<table border=\"1\" class=\"dataframe\">\n",
       "  <thead>\n",
       "    <tr style=\"text-align: right;\">\n",
       "      <th></th>\n",
       "      <th>Customer</th>\n",
       "      <th>Customer_Lifetime_Value</th>\n",
       "      <th>Gender</th>\n",
       "      <th>State</th>\n",
       "      <th>Policy_Type</th>\n",
       "      <th>Vehicle_Class</th>\n",
       "      <th>Income</th>\n",
       "      <th>Total_Claim_Amount</th>\n",
       "      <th>Monthly_Premium_Auto</th>\n",
       "    </tr>\n",
       "  </thead>\n",
       "  <tbody>\n",
       "    <tr>\n",
       "      <th>0</th>\n",
       "      <td>RB50392</td>\n",
       "      <td>NaN</td>\n",
       "      <td>NaN</td>\n",
       "      <td>Washington</td>\n",
       "      <td>Personal Auto</td>\n",
       "      <td>Four-Door Car</td>\n",
       "      <td>0.0</td>\n",
       "      <td>2.704934</td>\n",
       "      <td>1000.0</td>\n",
       "    </tr>\n",
       "    <tr>\n",
       "      <th>1</th>\n",
       "      <td>QZ44356</td>\n",
       "      <td>697953.59</td>\n",
       "      <td>F</td>\n",
       "      <td>Arizona</td>\n",
       "      <td>Personal Auto</td>\n",
       "      <td>Four-Door Car</td>\n",
       "      <td>0.0</td>\n",
       "      <td>1131.464935</td>\n",
       "      <td>94.0</td>\n",
       "    </tr>\n",
       "    <tr>\n",
       "      <th>2</th>\n",
       "      <td>AI49188</td>\n",
       "      <td>1288743.17</td>\n",
       "      <td>F</td>\n",
       "      <td>Nevada</td>\n",
       "      <td>Personal Auto</td>\n",
       "      <td>Two-Door Car</td>\n",
       "      <td>48767.0</td>\n",
       "      <td>566.472247</td>\n",
       "      <td>108.0</td>\n",
       "    </tr>\n",
       "    <tr>\n",
       "      <th>3</th>\n",
       "      <td>WW63253</td>\n",
       "      <td>764586.18</td>\n",
       "      <td>M</td>\n",
       "      <td>California</td>\n",
       "      <td>Corporate Auto</td>\n",
       "      <td>SUV</td>\n",
       "      <td>0.0</td>\n",
       "      <td>529.881344</td>\n",
       "      <td>106.0</td>\n",
       "    </tr>\n",
       "    <tr>\n",
       "      <th>4</th>\n",
       "      <td>GA49547</td>\n",
       "      <td>536307.65</td>\n",
       "      <td>M</td>\n",
       "      <td>Washington</td>\n",
       "      <td>Personal Auto</td>\n",
       "      <td>Four-Door Car</td>\n",
       "      <td>36357.0</td>\n",
       "      <td>17.269323</td>\n",
       "      <td>68.0</td>\n",
       "    </tr>\n",
       "  </tbody>\n",
       "</table>\n",
       "</div>"
      ],
      "text/plain": [
       "  Customer  Customer_Lifetime_Value Gender       State     Policy_Type  \\\n",
       "0  RB50392                      NaN    NaN  Washington   Personal Auto   \n",
       "1  QZ44356                697953.59      F     Arizona   Personal Auto   \n",
       "2  AI49188               1288743.17      F      Nevada   Personal Auto   \n",
       "3  WW63253                764586.18      M  California  Corporate Auto   \n",
       "4  GA49547                536307.65      M  Washington   Personal Auto   \n",
       "\n",
       "   Vehicle_Class   Income  Total_Claim_Amount  Monthly_Premium_Auto  \n",
       "0  Four-Door Car      0.0            2.704934                1000.0  \n",
       "1  Four-Door Car      0.0         1131.464935                  94.0  \n",
       "2   Two-Door Car  48767.0          566.472247                 108.0  \n",
       "3            SUV      0.0          529.881344                 106.0  \n",
       "4  Four-Door Car  36357.0           17.269323                  68.0  "
      ]
     },
     "execution_count": 35,
     "metadata": {},
     "output_type": "execute_result"
    }
   ],
   "source": [
    "df.head(5)"
   ]
  },
  {
   "cell_type": "code",
   "execution_count": 36,
   "metadata": {
    "tags": []
   },
   "outputs": [],
   "source": [
    "df['Customer_Lifetime_Value'] = df['Customer_Lifetime_Value'] * 100"
   ]
  },
  {
   "cell_type": "code",
   "execution_count": 37,
   "metadata": {
    "tags": []
   },
   "outputs": [
    {
     "data": {
      "text/html": [
       "<div>\n",
       "<style scoped>\n",
       "    .dataframe tbody tr th:only-of-type {\n",
       "        vertical-align: middle;\n",
       "    }\n",
       "\n",
       "    .dataframe tbody tr th {\n",
       "        vertical-align: top;\n",
       "    }\n",
       "\n",
       "    .dataframe thead th {\n",
       "        text-align: right;\n",
       "    }\n",
       "</style>\n",
       "<table border=\"1\" class=\"dataframe\">\n",
       "  <thead>\n",
       "    <tr style=\"text-align: right;\">\n",
       "      <th></th>\n",
       "      <th>Customer</th>\n",
       "      <th>Customer_Lifetime_Value</th>\n",
       "      <th>Gender</th>\n",
       "      <th>State</th>\n",
       "      <th>Policy_Type</th>\n",
       "      <th>Vehicle_Class</th>\n",
       "      <th>Income</th>\n",
       "      <th>Total_Claim_Amount</th>\n",
       "      <th>Monthly_Premium_Auto</th>\n",
       "    </tr>\n",
       "  </thead>\n",
       "  <tbody>\n",
       "    <tr>\n",
       "      <th>0</th>\n",
       "      <td>RB50392</td>\n",
       "      <td>NaN</td>\n",
       "      <td>NaN</td>\n",
       "      <td>Washington</td>\n",
       "      <td>Personal Auto</td>\n",
       "      <td>Four-Door Car</td>\n",
       "      <td>0.0</td>\n",
       "      <td>2.704934</td>\n",
       "      <td>1000.0</td>\n",
       "    </tr>\n",
       "    <tr>\n",
       "      <th>1</th>\n",
       "      <td>QZ44356</td>\n",
       "      <td>69795359.0</td>\n",
       "      <td>F</td>\n",
       "      <td>Arizona</td>\n",
       "      <td>Personal Auto</td>\n",
       "      <td>Four-Door Car</td>\n",
       "      <td>0.0</td>\n",
       "      <td>1131.464935</td>\n",
       "      <td>94.0</td>\n",
       "    </tr>\n",
       "    <tr>\n",
       "      <th>2</th>\n",
       "      <td>AI49188</td>\n",
       "      <td>128874317.0</td>\n",
       "      <td>F</td>\n",
       "      <td>Nevada</td>\n",
       "      <td>Personal Auto</td>\n",
       "      <td>Two-Door Car</td>\n",
       "      <td>48767.0</td>\n",
       "      <td>566.472247</td>\n",
       "      <td>108.0</td>\n",
       "    </tr>\n",
       "    <tr>\n",
       "      <th>3</th>\n",
       "      <td>WW63253</td>\n",
       "      <td>76458618.0</td>\n",
       "      <td>M</td>\n",
       "      <td>California</td>\n",
       "      <td>Corporate Auto</td>\n",
       "      <td>SUV</td>\n",
       "      <td>0.0</td>\n",
       "      <td>529.881344</td>\n",
       "      <td>106.0</td>\n",
       "    </tr>\n",
       "    <tr>\n",
       "      <th>4</th>\n",
       "      <td>GA49547</td>\n",
       "      <td>53630765.0</td>\n",
       "      <td>M</td>\n",
       "      <td>Washington</td>\n",
       "      <td>Personal Auto</td>\n",
       "      <td>Four-Door Car</td>\n",
       "      <td>36357.0</td>\n",
       "      <td>17.269323</td>\n",
       "      <td>68.0</td>\n",
       "    </tr>\n",
       "    <tr>\n",
       "      <th>5</th>\n",
       "      <td>OC83172</td>\n",
       "      <td>82562978.0</td>\n",
       "      <td>F</td>\n",
       "      <td>Oregon</td>\n",
       "      <td>Personal Auto</td>\n",
       "      <td>Two-Door Car</td>\n",
       "      <td>62902.0</td>\n",
       "      <td>159.383042</td>\n",
       "      <td>69.0</td>\n",
       "    </tr>\n",
       "    <tr>\n",
       "      <th>6</th>\n",
       "      <td>XZ87318</td>\n",
       "      <td>53808986.0</td>\n",
       "      <td>F</td>\n",
       "      <td>Oregon</td>\n",
       "      <td>Corporate Auto</td>\n",
       "      <td>Four-Door Car</td>\n",
       "      <td>55350.0</td>\n",
       "      <td>321.600000</td>\n",
       "      <td>67.0</td>\n",
       "    </tr>\n",
       "    <tr>\n",
       "      <th>7</th>\n",
       "      <td>CF85061</td>\n",
       "      <td>72161003.0</td>\n",
       "      <td>M</td>\n",
       "      <td>Arizona</td>\n",
       "      <td>Corporate Auto</td>\n",
       "      <td>Four-Door Car</td>\n",
       "      <td>0.0</td>\n",
       "      <td>363.029680</td>\n",
       "      <td>101.0</td>\n",
       "    </tr>\n",
       "    <tr>\n",
       "      <th>8</th>\n",
       "      <td>DY87989</td>\n",
       "      <td>241275040.0</td>\n",
       "      <td>M</td>\n",
       "      <td>Oregon</td>\n",
       "      <td>Corporate Auto</td>\n",
       "      <td>Four-Door Car</td>\n",
       "      <td>14072.0</td>\n",
       "      <td>511.200000</td>\n",
       "      <td>71.0</td>\n",
       "    </tr>\n",
       "    <tr>\n",
       "      <th>9</th>\n",
       "      <td>BQ94931</td>\n",
       "      <td>73881781.0</td>\n",
       "      <td>F</td>\n",
       "      <td>Oregon</td>\n",
       "      <td>Special Auto</td>\n",
       "      <td>Four-Door Car</td>\n",
       "      <td>28812.0</td>\n",
       "      <td>425.527834</td>\n",
       "      <td>93.0</td>\n",
       "    </tr>\n",
       "  </tbody>\n",
       "</table>\n",
       "</div>"
      ],
      "text/plain": [
       "  Customer  Customer_Lifetime_Value Gender       State     Policy_Type  \\\n",
       "0  RB50392                      NaN    NaN  Washington   Personal Auto   \n",
       "1  QZ44356               69795359.0      F     Arizona   Personal Auto   \n",
       "2  AI49188              128874317.0      F      Nevada   Personal Auto   \n",
       "3  WW63253               76458618.0      M  California  Corporate Auto   \n",
       "4  GA49547               53630765.0      M  Washington   Personal Auto   \n",
       "5  OC83172               82562978.0      F      Oregon   Personal Auto   \n",
       "6  XZ87318               53808986.0      F      Oregon  Corporate Auto   \n",
       "7  CF85061               72161003.0      M     Arizona  Corporate Auto   \n",
       "8  DY87989              241275040.0      M      Oregon  Corporate Auto   \n",
       "9  BQ94931               73881781.0      F      Oregon    Special Auto   \n",
       "\n",
       "   Vehicle_Class   Income  Total_Claim_Amount  Monthly_Premium_Auto  \n",
       "0  Four-Door Car      0.0            2.704934                1000.0  \n",
       "1  Four-Door Car      0.0         1131.464935                  94.0  \n",
       "2   Two-Door Car  48767.0          566.472247                 108.0  \n",
       "3            SUV      0.0          529.881344                 106.0  \n",
       "4  Four-Door Car  36357.0           17.269323                  68.0  \n",
       "5   Two-Door Car  62902.0          159.383042                  69.0  \n",
       "6  Four-Door Car  55350.0          321.600000                  67.0  \n",
       "7  Four-Door Car      0.0          363.029680                 101.0  \n",
       "8  Four-Door Car  14072.0          511.200000                  71.0  \n",
       "9  Four-Door Car  28812.0          425.527834                  93.0  "
      ]
     },
     "execution_count": 37,
     "metadata": {},
     "output_type": "execute_result"
    }
   ],
   "source": [
    "df.head(10)"
   ]
  },
  {
   "cell_type": "markdown",
   "metadata": {},
   "source": [
    "    * Check for duplicate rows in the data and remove if any."
   ]
  },
  {
   "cell_type": "code",
   "execution_count": 38,
   "metadata": {
    "tags": []
   },
   "outputs": [],
   "source": [
    "df.drop_duplicates(inplace=True)"
   ]
  },
  {
   "cell_type": "code",
   "execution_count": 39,
   "metadata": {
    "tags": []
   },
   "outputs": [
    {
     "data": {
      "text/plain": [
       "(9131, 9)"
      ]
     },
     "execution_count": 39,
     "metadata": {},
     "output_type": "execute_result"
    }
   ],
   "source": [
    "df.shape"
   ]
  },
  {
   "cell_type": "markdown",
   "metadata": {},
   "source": [
    "    * Filter out the data for customers who have an income of 0 or less."
   ]
  },
  {
   "cell_type": "code",
   "execution_count": 40,
   "metadata": {
    "tags": []
   },
   "outputs": [
    {
     "data": {
      "text/html": [
       "<div>\n",
       "<style scoped>\n",
       "    .dataframe tbody tr th:only-of-type {\n",
       "        vertical-align: middle;\n",
       "    }\n",
       "\n",
       "    .dataframe tbody tr th {\n",
       "        vertical-align: top;\n",
       "    }\n",
       "\n",
       "    .dataframe thead th {\n",
       "        text-align: right;\n",
       "    }\n",
       "</style>\n",
       "<table border=\"1\" class=\"dataframe\">\n",
       "  <thead>\n",
       "    <tr style=\"text-align: right;\">\n",
       "      <th></th>\n",
       "      <th>Customer</th>\n",
       "      <th>Customer_Lifetime_Value</th>\n",
       "      <th>Gender</th>\n",
       "      <th>State</th>\n",
       "      <th>Policy_Type</th>\n",
       "      <th>Vehicle_Class</th>\n",
       "      <th>Income</th>\n",
       "      <th>Total_Claim_Amount</th>\n",
       "      <th>Monthly_Premium_Auto</th>\n",
       "    </tr>\n",
       "  </thead>\n",
       "  <tbody>\n",
       "    <tr>\n",
       "      <th>2</th>\n",
       "      <td>AI49188</td>\n",
       "      <td>128874317.0</td>\n",
       "      <td>F</td>\n",
       "      <td>Nevada</td>\n",
       "      <td>Personal Auto</td>\n",
       "      <td>Two-Door Car</td>\n",
       "      <td>48767.0</td>\n",
       "      <td>566.472247</td>\n",
       "      <td>108.0</td>\n",
       "    </tr>\n",
       "    <tr>\n",
       "      <th>4</th>\n",
       "      <td>GA49547</td>\n",
       "      <td>53630765.0</td>\n",
       "      <td>M</td>\n",
       "      <td>Washington</td>\n",
       "      <td>Personal Auto</td>\n",
       "      <td>Four-Door Car</td>\n",
       "      <td>36357.0</td>\n",
       "      <td>17.269323</td>\n",
       "      <td>68.0</td>\n",
       "    </tr>\n",
       "    <tr>\n",
       "      <th>5</th>\n",
       "      <td>OC83172</td>\n",
       "      <td>82562978.0</td>\n",
       "      <td>F</td>\n",
       "      <td>Oregon</td>\n",
       "      <td>Personal Auto</td>\n",
       "      <td>Two-Door Car</td>\n",
       "      <td>62902.0</td>\n",
       "      <td>159.383042</td>\n",
       "      <td>69.0</td>\n",
       "    </tr>\n",
       "    <tr>\n",
       "      <th>6</th>\n",
       "      <td>XZ87318</td>\n",
       "      <td>53808986.0</td>\n",
       "      <td>F</td>\n",
       "      <td>Oregon</td>\n",
       "      <td>Corporate Auto</td>\n",
       "      <td>Four-Door Car</td>\n",
       "      <td>55350.0</td>\n",
       "      <td>321.600000</td>\n",
       "      <td>67.0</td>\n",
       "    </tr>\n",
       "    <tr>\n",
       "      <th>8</th>\n",
       "      <td>DY87989</td>\n",
       "      <td>241275040.0</td>\n",
       "      <td>M</td>\n",
       "      <td>Oregon</td>\n",
       "      <td>Corporate Auto</td>\n",
       "      <td>Four-Door Car</td>\n",
       "      <td>14072.0</td>\n",
       "      <td>511.200000</td>\n",
       "      <td>71.0</td>\n",
       "    </tr>\n",
       "    <tr>\n",
       "      <th>...</th>\n",
       "      <td>...</td>\n",
       "      <td>...</td>\n",
       "      <td>...</td>\n",
       "      <td>...</td>\n",
       "      <td>...</td>\n",
       "      <td>...</td>\n",
       "      <td>...</td>\n",
       "      <td>...</td>\n",
       "      <td>...</td>\n",
       "    </tr>\n",
       "    <tr>\n",
       "      <th>7063</th>\n",
       "      <td>TF56202</td>\n",
       "      <td>NaN</td>\n",
       "      <td>M</td>\n",
       "      <td>California</td>\n",
       "      <td>Personal Auto</td>\n",
       "      <td>Two-Door Car</td>\n",
       "      <td>66367.0</td>\n",
       "      <td>307.200000</td>\n",
       "      <td>64.0</td>\n",
       "    </tr>\n",
       "    <tr>\n",
       "      <th>7064</th>\n",
       "      <td>YM19146</td>\n",
       "      <td>NaN</td>\n",
       "      <td>F</td>\n",
       "      <td>California</td>\n",
       "      <td>Personal Auto</td>\n",
       "      <td>Four-Door Car</td>\n",
       "      <td>47761.0</td>\n",
       "      <td>541.282007</td>\n",
       "      <td>104.0</td>\n",
       "    </tr>\n",
       "    <tr>\n",
       "      <th>7065</th>\n",
       "      <td>LA72316</td>\n",
       "      <td>NaN</td>\n",
       "      <td>M</td>\n",
       "      <td>California</td>\n",
       "      <td>Personal Auto</td>\n",
       "      <td>Four-Door Car</td>\n",
       "      <td>71941.0</td>\n",
       "      <td>198.234764</td>\n",
       "      <td>73.0</td>\n",
       "    </tr>\n",
       "    <tr>\n",
       "      <th>7066</th>\n",
       "      <td>PK87824</td>\n",
       "      <td>NaN</td>\n",
       "      <td>F</td>\n",
       "      <td>California</td>\n",
       "      <td>Corporate Auto</td>\n",
       "      <td>Four-Door Car</td>\n",
       "      <td>21604.0</td>\n",
       "      <td>379.200000</td>\n",
       "      <td>79.0</td>\n",
       "    </tr>\n",
       "    <tr>\n",
       "      <th>7068</th>\n",
       "      <td>UP19263</td>\n",
       "      <td>NaN</td>\n",
       "      <td>M</td>\n",
       "      <td>California</td>\n",
       "      <td>Personal Auto</td>\n",
       "      <td>Four-Door Car</td>\n",
       "      <td>21941.0</td>\n",
       "      <td>691.200000</td>\n",
       "      <td>96.0</td>\n",
       "    </tr>\n",
       "  </tbody>\n",
       "</table>\n",
       "<p>6837 rows × 9 columns</p>\n",
       "</div>"
      ],
      "text/plain": [
       "     Customer  Customer_Lifetime_Value Gender       State     Policy_Type  \\\n",
       "2     AI49188              128874317.0      F      Nevada   Personal Auto   \n",
       "4     GA49547               53630765.0      M  Washington   Personal Auto   \n",
       "5     OC83172               82562978.0      F      Oregon   Personal Auto   \n",
       "6     XZ87318               53808986.0      F      Oregon  Corporate Auto   \n",
       "8     DY87989              241275040.0      M      Oregon  Corporate Auto   \n",
       "...       ...                      ...    ...         ...             ...   \n",
       "7063  TF56202                      NaN      M  California   Personal Auto   \n",
       "7064  YM19146                      NaN      F  California   Personal Auto   \n",
       "7065  LA72316                      NaN      M  California   Personal Auto   \n",
       "7066  PK87824                      NaN      F  California  Corporate Auto   \n",
       "7068  UP19263                      NaN      M  California   Personal Auto   \n",
       "\n",
       "      Vehicle_Class   Income  Total_Claim_Amount  Monthly_Premium_Auto  \n",
       "2      Two-Door Car  48767.0          566.472247                 108.0  \n",
       "4     Four-Door Car  36357.0           17.269323                  68.0  \n",
       "5      Two-Door Car  62902.0          159.383042                  69.0  \n",
       "6     Four-Door Car  55350.0          321.600000                  67.0  \n",
       "8     Four-Door Car  14072.0          511.200000                  71.0  \n",
       "...             ...      ...                 ...                   ...  \n",
       "7063   Two-Door Car  66367.0          307.200000                  64.0  \n",
       "7064  Four-Door Car  47761.0          541.282007                 104.0  \n",
       "7065  Four-Door Car  71941.0          198.234764                  73.0  \n",
       "7066  Four-Door Car  21604.0          379.200000                  79.0  \n",
       "7068  Four-Door Car  21941.0          691.200000                  96.0  \n",
       "\n",
       "[6837 rows x 9 columns]"
      ]
     },
     "execution_count": 40,
     "metadata": {},
     "output_type": "execute_result"
    }
   ],
   "source": [
    "df[df['Income'] > 0]"
   ]
  },
  {
   "cell_type": "code",
   "execution_count": null,
   "metadata": {},
   "outputs": [],
   "source": []
  }
 ],
 "metadata": {
  "kernelspec": {
   "display_name": "Python 3",
   "language": "python",
   "name": "python3"
  },
  "language_info": {
   "codemirror_mode": {
    "name": "ipython",
    "version": 3
   },
   "file_extension": ".py",
   "mimetype": "text/x-python",
   "name": "python",
   "nbconvert_exporter": "python",
   "pygments_lexer": "ipython3",
   "version": "3.8.5"
  }
 },
 "nbformat": 4,
 "nbformat_minor": 5
}
