{
 "cells": [
  {
   "cell_type": "markdown",
   "id": "67e56f36-cc97-411a-acea-440dc8ccb5a4",
   "metadata": {},
   "source": [
    "# Customer Analysis Round 1"
   ]
  },
  {
   "cell_type": "markdown",
   "id": "80bcd9e6-a412-45d5-a9ba-b0f55a2660f0",
   "metadata": {},
   "source": [
    "* Read the three files into python as dataframes"
   ]
  },
  {
   "cell_type": "code",
   "execution_count": 1,
   "id": "01c4db94-91ca-4477-81a9-77e3a2a1e4dc",
   "metadata": {},
   "outputs": [],
   "source": [
    "import pandas as pd\n",
    "\n",
    "import numpy as np"
   ]
  },
  {
   "cell_type": "code",
   "execution_count": 2,
   "id": "7dc5e25b-f2a5-48e8-afc9-1e68d151ae57",
   "metadata": {},
   "outputs": [],
   "source": [
    "df_1 = pd.read_csv('./files_for_lab/csv_files/file1.csv')\n",
    "df_2 = pd.read_csv('./files_for_lab/csv_files/file2.csv')\n",
    "df_3 = pd.read_csv('./files_for_lab/csv_files/file3.csv')"
   ]
  },
  {
   "cell_type": "markdown",
   "id": "7ce5bb30-9044-424a-bcff-bbe42f03f16c",
   "metadata": {},
   "source": [
    "* Show the DataFrame's shape."
   ]
  },
  {
   "cell_type": "code",
   "execution_count": 3,
   "id": "9fa1c069-0085-4f54-acec-72eb9e2f1f5f",
   "metadata": {
    "tags": []
   },
   "outputs": [
    {
     "name": "stdout",
     "output_type": "stream",
     "text": [
      "(4008, 11)\n",
      "(996, 11)\n",
      "(7070, 11)\n"
     ]
    }
   ],
   "source": [
    "print(df_1.shape)\n",
    "print(df_2.shape)\n",
    "print(df_3.shape)"
   ]
  },
  {
   "cell_type": "markdown",
   "id": "17f2f229-a238-40b4-b27f-33a2712499e4",
   "metadata": {
    "tags": []
   },
   "source": [
    "* Standardize header names."
   ]
  },
  {
   "cell_type": "code",
   "execution_count": 4,
   "id": "a667a238-259b-4262-b225-75b7200b8473",
   "metadata": {
    "tags": []
   },
   "outputs": [
    {
     "data": {
      "text/plain": [
       "Index(['Customer', 'ST', 'GENDER', 'Education', 'Customer Lifetime Value',\n",
       "       'Income', 'Monthly Premium Auto', 'Number of Open Complaints',\n",
       "       'Policy Type', 'Vehicle Class', 'Total Claim Amount'],\n",
       "      dtype='object')"
      ]
     },
     "execution_count": 4,
     "metadata": {},
     "output_type": "execute_result"
    }
   ],
   "source": [
    "df_1.columns"
   ]
  },
  {
   "cell_type": "code",
   "execution_count": 5,
   "id": "e079ae90-58c9-4f5f-9062-e26300c7ee46",
   "metadata": {
    "tags": []
   },
   "outputs": [
    {
     "data": {
      "text/plain": [
       "Index(['Customer', 'ST', 'GENDER', 'Education', 'Customer Lifetime Value',\n",
       "       'Income', 'Monthly Premium Auto', 'Number of Open Complaints',\n",
       "       'Total Claim Amount', 'Policy Type', 'Vehicle Class'],\n",
       "      dtype='object')"
      ]
     },
     "execution_count": 5,
     "metadata": {},
     "output_type": "execute_result"
    }
   ],
   "source": [
    "df_2.columns"
   ]
  },
  {
   "cell_type": "code",
   "execution_count": 6,
   "id": "13c60b13-1ac3-4411-96ea-173815a81f0c",
   "metadata": {
    "tags": []
   },
   "outputs": [
    {
     "data": {
      "text/plain": [
       "Index(['Customer', 'State', 'Customer Lifetime Value', 'Education', 'Gender',\n",
       "       'Income', 'Monthly Premium Auto', 'Number of Open Complaints',\n",
       "       'Policy Type', 'Total Claim Amount', 'Vehicle Class'],\n",
       "      dtype='object')"
      ]
     },
     "execution_count": 6,
     "metadata": {},
     "output_type": "execute_result"
    }
   ],
   "source": [
    "df_3.columns"
   ]
  },
  {
   "cell_type": "code",
   "execution_count": 7,
   "id": "48b9413e-a968-4666-b772-3a37413bcde4",
   "metadata": {
    "tags": []
   },
   "outputs": [],
   "source": [
    "renamed_columns_df_1_2 = { \"ST\": \"State\", \"GENDER\": \"Gender\", \"Customer Lifetime Value\": \"Customer_Lifetime_Value\", \"Monthly Premium Auto\": \"Monthly_Premium_Auto\", \n",
    "                  \"Number of Open Complaints\": \"Number_Of_Open_Complaints\", \"Policy Type\": \"Policy_Type\", \"Total Claim Amount\": \"Total_Claim_Amount\",\n",
    "                  \"Vehicle Class\": \"Vehicle_Class\"}"
   ]
  },
  {
   "cell_type": "code",
   "execution_count": 8,
   "id": "a74b4e17-37ad-4b4d-8963-29e9839c3217",
   "metadata": {
    "tags": []
   },
   "outputs": [],
   "source": [
    "renamed_columns_df_3 = { \"Customer Lifetime Value\": \"Customer_Lifetime_Value\", \"Monthly Premium Auto\": \"Monthly_Premium_Auto\", \n",
    "                  \"Number of Open Complaints\": \"Number_Of_Open_Complaints\", \"Policy Type\": \"Policy_Type\", \"Total Claim Amount\": \"Total_Claim_Amount\",\n",
    "                  \"Vehicle Class\": \"Vehicle_Class\"}"
   ]
  },
  {
   "cell_type": "code",
   "execution_count": 9,
   "id": "082c0cdd-1c3e-41bf-9bd4-e1503e0de08a",
   "metadata": {
    "tags": []
   },
   "outputs": [],
   "source": [
    "df_1.rename(columns=renamed_columns_df_1_2, inplace=True)"
   ]
  },
  {
   "cell_type": "code",
   "execution_count": 10,
   "id": "b2f06338-e39b-4c22-98c4-697a81ae95de",
   "metadata": {
    "tags": []
   },
   "outputs": [],
   "source": [
    "df_2.rename(columns=renamed_columns_df_1_2, inplace=True)"
   ]
  },
  {
   "cell_type": "code",
   "execution_count": 11,
   "id": "a7f4d6af-84b2-4ee9-83fb-e5ec9a5ea4b8",
   "metadata": {
    "tags": []
   },
   "outputs": [],
   "source": [
    "df_3.rename(columns=renamed_columns_df_3, inplace=True)"
   ]
  },
  {
   "cell_type": "code",
   "execution_count": 12,
   "id": "370e73dc-dbed-498c-a0cc-e046dac7ccb6",
   "metadata": {
    "tags": []
   },
   "outputs": [
    {
     "data": {
      "text/plain": [
       "Index(['Customer', 'State', 'Gender', 'Education', 'Customer_Lifetime_Value',\n",
       "       'Income', 'Monthly_Premium_Auto', 'Number_Of_Open_Complaints',\n",
       "       'Policy_Type', 'Vehicle_Class', 'Total_Claim_Amount'],\n",
       "      dtype='object')"
      ]
     },
     "execution_count": 12,
     "metadata": {},
     "output_type": "execute_result"
    }
   ],
   "source": [
    "df_1.columns"
   ]
  },
  {
   "cell_type": "code",
   "execution_count": 13,
   "id": "b65779ef-8ab3-4784-b4aa-d0cef4611327",
   "metadata": {
    "tags": []
   },
   "outputs": [
    {
     "data": {
      "text/plain": [
       "Index(['Customer', 'State', 'Gender', 'Education', 'Customer_Lifetime_Value',\n",
       "       'Income', 'Monthly_Premium_Auto', 'Number_Of_Open_Complaints',\n",
       "       'Total_Claim_Amount', 'Policy_Type', 'Vehicle_Class'],\n",
       "      dtype='object')"
      ]
     },
     "execution_count": 13,
     "metadata": {},
     "output_type": "execute_result"
    }
   ],
   "source": [
    "df_2.columns"
   ]
  },
  {
   "cell_type": "code",
   "execution_count": 14,
   "id": "faf03e69-bf45-4649-ad8d-c684920d6329",
   "metadata": {
    "tags": []
   },
   "outputs": [
    {
     "data": {
      "text/plain": [
       "Index(['Customer', 'State', 'Customer_Lifetime_Value', 'Education', 'Gender',\n",
       "       'Income', 'Monthly_Premium_Auto', 'Number_Of_Open_Complaints',\n",
       "       'Policy_Type', 'Total_Claim_Amount', 'Vehicle_Class'],\n",
       "      dtype='object')"
      ]
     },
     "execution_count": 14,
     "metadata": {},
     "output_type": "execute_result"
    }
   ],
   "source": [
    "df_3.columns"
   ]
  },
  {
   "cell_type": "markdown",
   "id": "63e21fe5-1568-4dda-a786-eaae7028343e",
   "metadata": {},
   "source": [
    "* Rearrange the columns in the dataframe as needed"
   ]
  },
  {
   "cell_type": "code",
   "execution_count": 15,
   "id": "b56b5326-e01f-48b7-9fba-7e574af86de0",
   "metadata": {
    "tags": []
   },
   "outputs": [
    {
     "data": {
      "text/html": [
       "<div>\n",
       "<style scoped>\n",
       "    .dataframe tbody tr th:only-of-type {\n",
       "        vertical-align: middle;\n",
       "    }\n",
       "\n",
       "    .dataframe tbody tr th {\n",
       "        vertical-align: top;\n",
       "    }\n",
       "\n",
       "    .dataframe thead th {\n",
       "        text-align: right;\n",
       "    }\n",
       "</style>\n",
       "<table border=\"1\" class=\"dataframe\">\n",
       "  <thead>\n",
       "    <tr style=\"text-align: right;\">\n",
       "      <th></th>\n",
       "      <th>Customer</th>\n",
       "      <th>State</th>\n",
       "      <th>Gender</th>\n",
       "      <th>Education</th>\n",
       "      <th>Customer_Lifetime_Value</th>\n",
       "      <th>Income</th>\n",
       "      <th>Monthly_Premium_Auto</th>\n",
       "      <th>Number_Of_Open_Complaints</th>\n",
       "      <th>Policy_Type</th>\n",
       "      <th>Vehicle_Class</th>\n",
       "      <th>Total_Claim_Amount</th>\n",
       "    </tr>\n",
       "  </thead>\n",
       "  <tbody>\n",
       "    <tr>\n",
       "      <th>0</th>\n",
       "      <td>RB50392</td>\n",
       "      <td>Washington</td>\n",
       "      <td>NaN</td>\n",
       "      <td>Master</td>\n",
       "      <td>NaN</td>\n",
       "      <td>0.0</td>\n",
       "      <td>1000.0</td>\n",
       "      <td>1/0/00</td>\n",
       "      <td>Personal Auto</td>\n",
       "      <td>Four-Door Car</td>\n",
       "      <td>2.704934</td>\n",
       "    </tr>\n",
       "    <tr>\n",
       "      <th>1</th>\n",
       "      <td>QZ44356</td>\n",
       "      <td>Arizona</td>\n",
       "      <td>F</td>\n",
       "      <td>Bachelor</td>\n",
       "      <td>697953.59%</td>\n",
       "      <td>0.0</td>\n",
       "      <td>94.0</td>\n",
       "      <td>1/0/00</td>\n",
       "      <td>Personal Auto</td>\n",
       "      <td>Four-Door Car</td>\n",
       "      <td>1131.464935</td>\n",
       "    </tr>\n",
       "  </tbody>\n",
       "</table>\n",
       "</div>"
      ],
      "text/plain": [
       "  Customer       State Gender Education Customer_Lifetime_Value  Income   \n",
       "0  RB50392  Washington    NaN    Master                     NaN     0.0  \\\n",
       "1  QZ44356     Arizona      F  Bachelor              697953.59%     0.0   \n",
       "\n",
       "   Monthly_Premium_Auto Number_Of_Open_Complaints    Policy_Type   \n",
       "0                1000.0                    1/0/00  Personal Auto  \\\n",
       "1                  94.0                    1/0/00  Personal Auto   \n",
       "\n",
       "   Vehicle_Class  Total_Claim_Amount  \n",
       "0  Four-Door Car            2.704934  \n",
       "1  Four-Door Car         1131.464935  "
      ]
     },
     "execution_count": 15,
     "metadata": {},
     "output_type": "execute_result"
    }
   ],
   "source": [
    "df_1.head(2)"
   ]
  },
  {
   "cell_type": "code",
   "execution_count": 16,
   "id": "8d87d014-47c4-4bcb-9fbd-cba9b06c752c",
   "metadata": {
    "tags": []
   },
   "outputs": [],
   "source": [
    "ordered_columns = ['Customer', 'Customer_Lifetime_Value', 'Gender', 'Education', 'State', 'Policy_Type',\n",
    "       'Vehicle_Class', 'Income', 'Total_Claim_Amount', 'Monthly_Premium_Auto', 'Number_Of_Open_Complaints']"
   ]
  },
  {
   "cell_type": "code",
   "execution_count": 17,
   "id": "05492ec3-3bce-40ca-9a51-5b411b0440ad",
   "metadata": {
    "tags": []
   },
   "outputs": [],
   "source": [
    "df_1 = df_1[ordered_columns]"
   ]
  },
  {
   "cell_type": "code",
   "execution_count": 18,
   "id": "c617921f-62bb-4637-938e-0d416f44bcae",
   "metadata": {
    "tags": []
   },
   "outputs": [],
   "source": [
    "df_2 = df_2[ordered_columns]"
   ]
  },
  {
   "cell_type": "code",
   "execution_count": 19,
   "id": "20d4ee99-e0b6-4332-8ac9-ed1cb828b608",
   "metadata": {
    "tags": []
   },
   "outputs": [],
   "source": [
    "df_3 = df_3[ordered_columns]"
   ]
  },
  {
   "cell_type": "code",
   "execution_count": 20,
   "id": "a38a99e5-3f1c-461a-aa5f-01b2f358ed13",
   "metadata": {
    "tags": []
   },
   "outputs": [
    {
     "data": {
      "text/html": [
       "<div>\n",
       "<style scoped>\n",
       "    .dataframe tbody tr th:only-of-type {\n",
       "        vertical-align: middle;\n",
       "    }\n",
       "\n",
       "    .dataframe tbody tr th {\n",
       "        vertical-align: top;\n",
       "    }\n",
       "\n",
       "    .dataframe thead th {\n",
       "        text-align: right;\n",
       "    }\n",
       "</style>\n",
       "<table border=\"1\" class=\"dataframe\">\n",
       "  <thead>\n",
       "    <tr style=\"text-align: right;\">\n",
       "      <th></th>\n",
       "      <th>Customer</th>\n",
       "      <th>Customer_Lifetime_Value</th>\n",
       "      <th>Gender</th>\n",
       "      <th>Education</th>\n",
       "      <th>State</th>\n",
       "      <th>Policy_Type</th>\n",
       "      <th>Vehicle_Class</th>\n",
       "      <th>Income</th>\n",
       "      <th>Total_Claim_Amount</th>\n",
       "      <th>Monthly_Premium_Auto</th>\n",
       "      <th>Number_Of_Open_Complaints</th>\n",
       "    </tr>\n",
       "  </thead>\n",
       "  <tbody>\n",
       "    <tr>\n",
       "      <th>0</th>\n",
       "      <td>RB50392</td>\n",
       "      <td>NaN</td>\n",
       "      <td>NaN</td>\n",
       "      <td>Master</td>\n",
       "      <td>Washington</td>\n",
       "      <td>Personal Auto</td>\n",
       "      <td>Four-Door Car</td>\n",
       "      <td>0.0</td>\n",
       "      <td>2.704934</td>\n",
       "      <td>1000.0</td>\n",
       "      <td>1/0/00</td>\n",
       "    </tr>\n",
       "  </tbody>\n",
       "</table>\n",
       "</div>"
      ],
      "text/plain": [
       "  Customer Customer_Lifetime_Value Gender Education       State   \n",
       "0  RB50392                     NaN    NaN    Master  Washington  \\\n",
       "\n",
       "     Policy_Type  Vehicle_Class  Income  Total_Claim_Amount   \n",
       "0  Personal Auto  Four-Door Car     0.0            2.704934  \\\n",
       "\n",
       "   Monthly_Premium_Auto Number_Of_Open_Complaints  \n",
       "0                1000.0                    1/0/00  "
      ]
     },
     "execution_count": 20,
     "metadata": {},
     "output_type": "execute_result"
    }
   ],
   "source": [
    "df_1.head(1)"
   ]
  },
  {
   "cell_type": "code",
   "execution_count": 21,
   "id": "e59382ef-5a88-447d-9200-73362325d765",
   "metadata": {
    "tags": []
   },
   "outputs": [
    {
     "data": {
      "text/html": [
       "<div>\n",
       "<style scoped>\n",
       "    .dataframe tbody tr th:only-of-type {\n",
       "        vertical-align: middle;\n",
       "    }\n",
       "\n",
       "    .dataframe tbody tr th {\n",
       "        vertical-align: top;\n",
       "    }\n",
       "\n",
       "    .dataframe thead th {\n",
       "        text-align: right;\n",
       "    }\n",
       "</style>\n",
       "<table border=\"1\" class=\"dataframe\">\n",
       "  <thead>\n",
       "    <tr style=\"text-align: right;\">\n",
       "      <th></th>\n",
       "      <th>Customer</th>\n",
       "      <th>Customer_Lifetime_Value</th>\n",
       "      <th>Gender</th>\n",
       "      <th>Education</th>\n",
       "      <th>State</th>\n",
       "      <th>Policy_Type</th>\n",
       "      <th>Vehicle_Class</th>\n",
       "      <th>Income</th>\n",
       "      <th>Total_Claim_Amount</th>\n",
       "      <th>Monthly_Premium_Auto</th>\n",
       "      <th>Number_Of_Open_Complaints</th>\n",
       "    </tr>\n",
       "  </thead>\n",
       "  <tbody>\n",
       "    <tr>\n",
       "      <th>0</th>\n",
       "      <td>GS98873</td>\n",
       "      <td>323912.47%</td>\n",
       "      <td>F</td>\n",
       "      <td>Bachelor</td>\n",
       "      <td>Arizona</td>\n",
       "      <td>Personal Auto</td>\n",
       "      <td>Four-Door Car</td>\n",
       "      <td>16061</td>\n",
       "      <td>633.6</td>\n",
       "      <td>88</td>\n",
       "      <td>1/0/00</td>\n",
       "    </tr>\n",
       "  </tbody>\n",
       "</table>\n",
       "</div>"
      ],
      "text/plain": [
       "  Customer Customer_Lifetime_Value Gender Education    State    Policy_Type   \n",
       "0  GS98873              323912.47%      F  Bachelor  Arizona  Personal Auto  \\\n",
       "\n",
       "   Vehicle_Class  Income  Total_Claim_Amount  Monthly_Premium_Auto   \n",
       "0  Four-Door Car   16061               633.6                    88  \\\n",
       "\n",
       "  Number_Of_Open_Complaints  \n",
       "0                    1/0/00  "
      ]
     },
     "execution_count": 21,
     "metadata": {},
     "output_type": "execute_result"
    }
   ],
   "source": [
    "df_2.head(1)"
   ]
  },
  {
   "cell_type": "code",
   "execution_count": 22,
   "id": "3fd53db3-f37f-40d3-a7cb-0a471c06e077",
   "metadata": {
    "tags": []
   },
   "outputs": [
    {
     "data": {
      "text/html": [
       "<div>\n",
       "<style scoped>\n",
       "    .dataframe tbody tr th:only-of-type {\n",
       "        vertical-align: middle;\n",
       "    }\n",
       "\n",
       "    .dataframe tbody tr th {\n",
       "        vertical-align: top;\n",
       "    }\n",
       "\n",
       "    .dataframe thead th {\n",
       "        text-align: right;\n",
       "    }\n",
       "</style>\n",
       "<table border=\"1\" class=\"dataframe\">\n",
       "  <thead>\n",
       "    <tr style=\"text-align: right;\">\n",
       "      <th></th>\n",
       "      <th>Customer</th>\n",
       "      <th>Customer_Lifetime_Value</th>\n",
       "      <th>Gender</th>\n",
       "      <th>Education</th>\n",
       "      <th>State</th>\n",
       "      <th>Policy_Type</th>\n",
       "      <th>Vehicle_Class</th>\n",
       "      <th>Income</th>\n",
       "      <th>Total_Claim_Amount</th>\n",
       "      <th>Monthly_Premium_Auto</th>\n",
       "      <th>Number_Of_Open_Complaints</th>\n",
       "    </tr>\n",
       "  </thead>\n",
       "  <tbody>\n",
       "    <tr>\n",
       "      <th>0</th>\n",
       "      <td>SA25987</td>\n",
       "      <td>3479.137523</td>\n",
       "      <td>M</td>\n",
       "      <td>High School or Below</td>\n",
       "      <td>Washington</td>\n",
       "      <td>Personal Auto</td>\n",
       "      <td>Two-Door Car</td>\n",
       "      <td>0</td>\n",
       "      <td>499.2</td>\n",
       "      <td>104</td>\n",
       "      <td>0</td>\n",
       "    </tr>\n",
       "  </tbody>\n",
       "</table>\n",
       "</div>"
      ],
      "text/plain": [
       "  Customer  Customer_Lifetime_Value Gender             Education       State   \n",
       "0  SA25987              3479.137523      M  High School or Below  Washington  \\\n",
       "\n",
       "     Policy_Type Vehicle_Class  Income  Total_Claim_Amount   \n",
       "0  Personal Auto  Two-Door Car       0               499.2  \\\n",
       "\n",
       "   Monthly_Premium_Auto  Number_Of_Open_Complaints  \n",
       "0                   104                          0  "
      ]
     },
     "execution_count": 22,
     "metadata": {},
     "output_type": "execute_result"
    }
   ],
   "source": [
    "df_3.head(1)"
   ]
  },
  {
   "cell_type": "markdown",
   "id": "6021ec36-c1eb-45f8-b8b9-afd6c5045615",
   "metadata": {},
   "source": [
    "* Concatenate the three dataframes"
   ]
  },
  {
   "cell_type": "code",
   "execution_count": 23,
   "id": "9ab0e018-f66c-47a7-b0c4-d3e824f0ff91",
   "metadata": {
    "tags": []
   },
   "outputs": [],
   "source": [
    "df = pd.concat([df_1, df_2, df_3])"
   ]
  },
  {
   "cell_type": "code",
   "execution_count": 24,
   "id": "c8b12291-c934-47db-b9cf-e0efc398ac1d",
   "metadata": {
    "tags": []
   },
   "outputs": [
    {
     "data": {
      "text/html": [
       "<div>\n",
       "<style scoped>\n",
       "    .dataframe tbody tr th:only-of-type {\n",
       "        vertical-align: middle;\n",
       "    }\n",
       "\n",
       "    .dataframe tbody tr th {\n",
       "        vertical-align: top;\n",
       "    }\n",
       "\n",
       "    .dataframe thead th {\n",
       "        text-align: right;\n",
       "    }\n",
       "</style>\n",
       "<table border=\"1\" class=\"dataframe\">\n",
       "  <thead>\n",
       "    <tr style=\"text-align: right;\">\n",
       "      <th></th>\n",
       "      <th>Customer</th>\n",
       "      <th>Customer_Lifetime_Value</th>\n",
       "      <th>Gender</th>\n",
       "      <th>Education</th>\n",
       "      <th>State</th>\n",
       "      <th>Policy_Type</th>\n",
       "      <th>Vehicle_Class</th>\n",
       "      <th>Income</th>\n",
       "      <th>Total_Claim_Amount</th>\n",
       "      <th>Monthly_Premium_Auto</th>\n",
       "      <th>Number_Of_Open_Complaints</th>\n",
       "    </tr>\n",
       "  </thead>\n",
       "  <tbody>\n",
       "    <tr>\n",
       "      <th>0</th>\n",
       "      <td>RB50392</td>\n",
       "      <td>NaN</td>\n",
       "      <td>NaN</td>\n",
       "      <td>Master</td>\n",
       "      <td>Washington</td>\n",
       "      <td>Personal Auto</td>\n",
       "      <td>Four-Door Car</td>\n",
       "      <td>0.0</td>\n",
       "      <td>2.704934</td>\n",
       "      <td>1000.0</td>\n",
       "      <td>1/0/00</td>\n",
       "    </tr>\n",
       "    <tr>\n",
       "      <th>1</th>\n",
       "      <td>QZ44356</td>\n",
       "      <td>697953.59%</td>\n",
       "      <td>F</td>\n",
       "      <td>Bachelor</td>\n",
       "      <td>Arizona</td>\n",
       "      <td>Personal Auto</td>\n",
       "      <td>Four-Door Car</td>\n",
       "      <td>0.0</td>\n",
       "      <td>1131.464935</td>\n",
       "      <td>94.0</td>\n",
       "      <td>1/0/00</td>\n",
       "    </tr>\n",
       "    <tr>\n",
       "      <th>2</th>\n",
       "      <td>AI49188</td>\n",
       "      <td>1288743.17%</td>\n",
       "      <td>F</td>\n",
       "      <td>Bachelor</td>\n",
       "      <td>Nevada</td>\n",
       "      <td>Personal Auto</td>\n",
       "      <td>Two-Door Car</td>\n",
       "      <td>48767.0</td>\n",
       "      <td>566.472247</td>\n",
       "      <td>108.0</td>\n",
       "      <td>1/0/00</td>\n",
       "    </tr>\n",
       "  </tbody>\n",
       "</table>\n",
       "</div>"
      ],
      "text/plain": [
       "  Customer Customer_Lifetime_Value Gender Education       State   \n",
       "0  RB50392                     NaN    NaN    Master  Washington  \\\n",
       "1  QZ44356              697953.59%      F  Bachelor     Arizona   \n",
       "2  AI49188             1288743.17%      F  Bachelor      Nevada   \n",
       "\n",
       "     Policy_Type  Vehicle_Class   Income  Total_Claim_Amount   \n",
       "0  Personal Auto  Four-Door Car      0.0            2.704934  \\\n",
       "1  Personal Auto  Four-Door Car      0.0         1131.464935   \n",
       "2  Personal Auto   Two-Door Car  48767.0          566.472247   \n",
       "\n",
       "   Monthly_Premium_Auto Number_Of_Open_Complaints  \n",
       "0                1000.0                    1/0/00  \n",
       "1                  94.0                    1/0/00  \n",
       "2                 108.0                    1/0/00  "
      ]
     },
     "execution_count": 24,
     "metadata": {},
     "output_type": "execute_result"
    }
   ],
   "source": [
    "df.head(3)"
   ]
  },
  {
   "cell_type": "code",
   "execution_count": 25,
   "id": "80f4dbc9-a44a-46f9-8491-ce692f8f8912",
   "metadata": {
    "tags": []
   },
   "outputs": [
    {
     "data": {
      "text/plain": [
       "(12074, 11)"
      ]
     },
     "execution_count": 25,
     "metadata": {},
     "output_type": "execute_result"
    }
   ],
   "source": [
    "df.shape"
   ]
  },
  {
   "cell_type": "code",
   "execution_count": 26,
   "id": "c78ffa06-dc76-4ee9-ba24-43c2b9b77fed",
   "metadata": {
    "tags": []
   },
   "outputs": [
    {
     "data": {
      "text/plain": [
       "Customer                      object\n",
       "Customer_Lifetime_Value       object\n",
       "Gender                        object\n",
       "Education                     object\n",
       "State                         object\n",
       "Policy_Type                   object\n",
       "Vehicle_Class                 object\n",
       "Income                       float64\n",
       "Total_Claim_Amount           float64\n",
       "Monthly_Premium_Auto         float64\n",
       "Number_Of_Open_Complaints     object\n",
       "dtype: object"
      ]
     },
     "execution_count": 26,
     "metadata": {},
     "output_type": "execute_result"
    }
   ],
   "source": [
    "df.dtypes"
   ]
  },
  {
   "cell_type": "markdown",
   "id": "28b14a04-a5b4-4f95-a616-3c6ce35c1a81",
   "metadata": {},
   "source": [
    "* Which columns are numerical?"
   ]
  },
  {
   "cell_type": "markdown",
   "id": "d36db88e-5dfd-4f06-abc5-5d5966a45730",
   "metadata": {},
   "source": [
    "1. Customer_Lifetime_Value\n",
    "2. Income\n",
    "3. Total_Claim_Amount\n",
    "4. Monthly_Premium_Auto"
   ]
  },
  {
   "cell_type": "markdown",
   "id": "3bf557e4-603a-4239-96b8-e70e68b15f1c",
   "metadata": {},
   "source": [
    "* Which columns are categorical?"
   ]
  },
  {
   "cell_type": "markdown",
   "id": "7af59e24-d47c-43b3-938e-374d56378281",
   "metadata": {},
   "source": [
    "1. Customer\n",
    "2. Gender\n",
    "3. Education\n",
    "4. State\n",
    "5. Policy_Type\n",
    "6. Vehicle_Class\n",
    "7. Number_Of_Open_Complaints"
   ]
  },
  {
   "cell_type": "markdown",
   "id": "0cdc3b12-b297-4c73-ae6f-eb0e003f5c38",
   "metadata": {
    "tags": []
   },
   "source": [
    "* Understand the meaning of all columns"
   ]
  },
  {
   "cell_type": "markdown",
   "id": "b809c6f1-79f2-4d82-a8d5-f452fc686d94",
   "metadata": {},
   "source": [
    "* Perform the data cleaning operations mentioned so far in class"
   ]
  },
  {
   "cell_type": "markdown",
   "id": "1f866897-b1da-4a7e-980b-5a72c2ad4a54",
   "metadata": {},
   "source": [
    "    * Delete the column education and the number of open complaints from the dataframe."
   ]
  },
  {
   "cell_type": "code",
   "execution_count": 27,
   "id": "e7684b6f-9abb-4e8a-8450-5bf63fa661fc",
   "metadata": {
    "tags": []
   },
   "outputs": [],
   "source": [
    "df.drop(columns=['Education', 'Number_Of_Open_Complaints'], inplace=True)"
   ]
  },
  {
   "cell_type": "code",
   "execution_count": 28,
   "id": "73fa7079-4fc8-4cbd-a361-80eee42d92a3",
   "metadata": {
    "tags": []
   },
   "outputs": [
    {
     "data": {
      "text/plain": [
       "Index(['Customer', 'Customer_Lifetime_Value', 'Gender', 'State', 'Policy_Type',\n",
       "       'Vehicle_Class', 'Income', 'Total_Claim_Amount',\n",
       "       'Monthly_Premium_Auto'],\n",
       "      dtype='object')"
      ]
     },
     "execution_count": 28,
     "metadata": {},
     "output_type": "execute_result"
    }
   ],
   "source": [
    "df.columns"
   ]
  },
  {
   "cell_type": "markdown",
   "id": "74054ec7-67ea-4975-bfa1-6d7a6c446b07",
   "metadata": {},
   "source": [
    "    * Correct the values in the column customer lifetime value. They are given as a percent, so multiply them by 100 and change dtype to numerical type."
   ]
  },
  {
   "cell_type": "code",
   "execution_count": 29,
   "id": "020d5f4b-13a3-48eb-ab8f-e34379633246",
   "metadata": {
    "tags": []
   },
   "outputs": [
    {
     "data": {
      "text/plain": [
       "Customer                    object\n",
       "Customer_Lifetime_Value     object\n",
       "Gender                      object\n",
       "State                       object\n",
       "Policy_Type                 object\n",
       "Vehicle_Class               object\n",
       "Income                     float64\n",
       "Total_Claim_Amount         float64\n",
       "Monthly_Premium_Auto       float64\n",
       "dtype: object"
      ]
     },
     "execution_count": 29,
     "metadata": {},
     "output_type": "execute_result"
    }
   ],
   "source": [
    "df.dtypes"
   ]
  },
  {
   "cell_type": "code",
   "execution_count": 30,
   "id": "77b3bdfd-e1f5-4bff-88ae-f580c891ad38",
   "metadata": {
    "tags": []
   },
   "outputs": [],
   "source": [
    "df['Customer_Lifetime_Value'] = df['Customer_Lifetime_Value'].str.replace('%', '')"
   ]
  },
  {
   "cell_type": "code",
   "execution_count": 31,
   "id": "6ee62d9f-c281-4d3d-96ff-accee69c2331",
   "metadata": {
    "tags": []
   },
   "outputs": [
    {
     "data": {
      "text/html": [
       "<div>\n",
       "<style scoped>\n",
       "    .dataframe tbody tr th:only-of-type {\n",
       "        vertical-align: middle;\n",
       "    }\n",
       "\n",
       "    .dataframe tbody tr th {\n",
       "        vertical-align: top;\n",
       "    }\n",
       "\n",
       "    .dataframe thead th {\n",
       "        text-align: right;\n",
       "    }\n",
       "</style>\n",
       "<table border=\"1\" class=\"dataframe\">\n",
       "  <thead>\n",
       "    <tr style=\"text-align: right;\">\n",
       "      <th></th>\n",
       "      <th>Customer</th>\n",
       "      <th>Customer_Lifetime_Value</th>\n",
       "      <th>Gender</th>\n",
       "      <th>State</th>\n",
       "      <th>Policy_Type</th>\n",
       "      <th>Vehicle_Class</th>\n",
       "      <th>Income</th>\n",
       "      <th>Total_Claim_Amount</th>\n",
       "      <th>Monthly_Premium_Auto</th>\n",
       "    </tr>\n",
       "  </thead>\n",
       "  <tbody>\n",
       "    <tr>\n",
       "      <th>0</th>\n",
       "      <td>RB50392</td>\n",
       "      <td>NaN</td>\n",
       "      <td>NaN</td>\n",
       "      <td>Washington</td>\n",
       "      <td>Personal Auto</td>\n",
       "      <td>Four-Door Car</td>\n",
       "      <td>0.0</td>\n",
       "      <td>2.704934</td>\n",
       "      <td>1000.0</td>\n",
       "    </tr>\n",
       "    <tr>\n",
       "      <th>1</th>\n",
       "      <td>QZ44356</td>\n",
       "      <td>697953.59</td>\n",
       "      <td>F</td>\n",
       "      <td>Arizona</td>\n",
       "      <td>Personal Auto</td>\n",
       "      <td>Four-Door Car</td>\n",
       "      <td>0.0</td>\n",
       "      <td>1131.464935</td>\n",
       "      <td>94.0</td>\n",
       "    </tr>\n",
       "    <tr>\n",
       "      <th>2</th>\n",
       "      <td>AI49188</td>\n",
       "      <td>1288743.17</td>\n",
       "      <td>F</td>\n",
       "      <td>Nevada</td>\n",
       "      <td>Personal Auto</td>\n",
       "      <td>Two-Door Car</td>\n",
       "      <td>48767.0</td>\n",
       "      <td>566.472247</td>\n",
       "      <td>108.0</td>\n",
       "    </tr>\n",
       "    <tr>\n",
       "      <th>3</th>\n",
       "      <td>WW63253</td>\n",
       "      <td>764586.18</td>\n",
       "      <td>M</td>\n",
       "      <td>California</td>\n",
       "      <td>Corporate Auto</td>\n",
       "      <td>SUV</td>\n",
       "      <td>0.0</td>\n",
       "      <td>529.881344</td>\n",
       "      <td>106.0</td>\n",
       "    </tr>\n",
       "    <tr>\n",
       "      <th>4</th>\n",
       "      <td>GA49547</td>\n",
       "      <td>536307.65</td>\n",
       "      <td>M</td>\n",
       "      <td>Washington</td>\n",
       "      <td>Personal Auto</td>\n",
       "      <td>Four-Door Car</td>\n",
       "      <td>36357.0</td>\n",
       "      <td>17.269323</td>\n",
       "      <td>68.0</td>\n",
       "    </tr>\n",
       "  </tbody>\n",
       "</table>\n",
       "</div>"
      ],
      "text/plain": [
       "  Customer Customer_Lifetime_Value Gender       State     Policy_Type   \n",
       "0  RB50392                     NaN    NaN  Washington   Personal Auto  \\\n",
       "1  QZ44356               697953.59      F     Arizona   Personal Auto   \n",
       "2  AI49188              1288743.17      F      Nevada   Personal Auto   \n",
       "3  WW63253               764586.18      M  California  Corporate Auto   \n",
       "4  GA49547               536307.65      M  Washington   Personal Auto   \n",
       "\n",
       "   Vehicle_Class   Income  Total_Claim_Amount  Monthly_Premium_Auto  \n",
       "0  Four-Door Car      0.0            2.704934                1000.0  \n",
       "1  Four-Door Car      0.0         1131.464935                  94.0  \n",
       "2   Two-Door Car  48767.0          566.472247                 108.0  \n",
       "3            SUV      0.0          529.881344                 106.0  \n",
       "4  Four-Door Car  36357.0           17.269323                  68.0  "
      ]
     },
     "execution_count": 31,
     "metadata": {},
     "output_type": "execute_result"
    }
   ],
   "source": [
    "df.head(5)"
   ]
  },
  {
   "cell_type": "code",
   "execution_count": 32,
   "id": "b2f62396-b6d1-4068-af71-fb0a8e9a0108",
   "metadata": {
    "tags": []
   },
   "outputs": [],
   "source": [
    "df['Customer_Lifetime_Value'] = df['Customer_Lifetime_Value'].astype('float64')"
   ]
  },
  {
   "cell_type": "code",
   "execution_count": 33,
   "id": "c016471a-8b2d-418b-a81e-5eafb8bef256",
   "metadata": {
    "tags": []
   },
   "outputs": [
    {
     "data": {
      "text/plain": [
       "Customer                    object\n",
       "Customer_Lifetime_Value    float64\n",
       "Gender                      object\n",
       "State                       object\n",
       "Policy_Type                 object\n",
       "Vehicle_Class               object\n",
       "Income                     float64\n",
       "Total_Claim_Amount         float64\n",
       "Monthly_Premium_Auto       float64\n",
       "dtype: object"
      ]
     },
     "execution_count": 33,
     "metadata": {},
     "output_type": "execute_result"
    }
   ],
   "source": [
    "df.dtypes"
   ]
  },
  {
   "cell_type": "code",
   "execution_count": 34,
   "id": "5a3ae5db-d7ea-4b66-85d7-1590cedddcd2",
   "metadata": {
    "tags": []
   },
   "outputs": [
    {
     "data": {
      "text/html": [
       "<div>\n",
       "<style scoped>\n",
       "    .dataframe tbody tr th:only-of-type {\n",
       "        vertical-align: middle;\n",
       "    }\n",
       "\n",
       "    .dataframe tbody tr th {\n",
       "        vertical-align: top;\n",
       "    }\n",
       "\n",
       "    .dataframe thead th {\n",
       "        text-align: right;\n",
       "    }\n",
       "</style>\n",
       "<table border=\"1\" class=\"dataframe\">\n",
       "  <thead>\n",
       "    <tr style=\"text-align: right;\">\n",
       "      <th></th>\n",
       "      <th>Customer</th>\n",
       "      <th>Customer_Lifetime_Value</th>\n",
       "      <th>Gender</th>\n",
       "      <th>State</th>\n",
       "      <th>Policy_Type</th>\n",
       "      <th>Vehicle_Class</th>\n",
       "      <th>Income</th>\n",
       "      <th>Total_Claim_Amount</th>\n",
       "      <th>Monthly_Premium_Auto</th>\n",
       "    </tr>\n",
       "  </thead>\n",
       "  <tbody>\n",
       "    <tr>\n",
       "      <th>0</th>\n",
       "      <td>RB50392</td>\n",
       "      <td>NaN</td>\n",
       "      <td>NaN</td>\n",
       "      <td>Washington</td>\n",
       "      <td>Personal Auto</td>\n",
       "      <td>Four-Door Car</td>\n",
       "      <td>0.0</td>\n",
       "      <td>2.704934</td>\n",
       "      <td>1000.0</td>\n",
       "    </tr>\n",
       "    <tr>\n",
       "      <th>1</th>\n",
       "      <td>QZ44356</td>\n",
       "      <td>697953.59</td>\n",
       "      <td>F</td>\n",
       "      <td>Arizona</td>\n",
       "      <td>Personal Auto</td>\n",
       "      <td>Four-Door Car</td>\n",
       "      <td>0.0</td>\n",
       "      <td>1131.464935</td>\n",
       "      <td>94.0</td>\n",
       "    </tr>\n",
       "    <tr>\n",
       "      <th>2</th>\n",
       "      <td>AI49188</td>\n",
       "      <td>1288743.17</td>\n",
       "      <td>F</td>\n",
       "      <td>Nevada</td>\n",
       "      <td>Personal Auto</td>\n",
       "      <td>Two-Door Car</td>\n",
       "      <td>48767.0</td>\n",
       "      <td>566.472247</td>\n",
       "      <td>108.0</td>\n",
       "    </tr>\n",
       "    <tr>\n",
       "      <th>3</th>\n",
       "      <td>WW63253</td>\n",
       "      <td>764586.18</td>\n",
       "      <td>M</td>\n",
       "      <td>California</td>\n",
       "      <td>Corporate Auto</td>\n",
       "      <td>SUV</td>\n",
       "      <td>0.0</td>\n",
       "      <td>529.881344</td>\n",
       "      <td>106.0</td>\n",
       "    </tr>\n",
       "    <tr>\n",
       "      <th>4</th>\n",
       "      <td>GA49547</td>\n",
       "      <td>536307.65</td>\n",
       "      <td>M</td>\n",
       "      <td>Washington</td>\n",
       "      <td>Personal Auto</td>\n",
       "      <td>Four-Door Car</td>\n",
       "      <td>36357.0</td>\n",
       "      <td>17.269323</td>\n",
       "      <td>68.0</td>\n",
       "    </tr>\n",
       "  </tbody>\n",
       "</table>\n",
       "</div>"
      ],
      "text/plain": [
       "  Customer  Customer_Lifetime_Value Gender       State     Policy_Type   \n",
       "0  RB50392                      NaN    NaN  Washington   Personal Auto  \\\n",
       "1  QZ44356                697953.59      F     Arizona   Personal Auto   \n",
       "2  AI49188               1288743.17      F      Nevada   Personal Auto   \n",
       "3  WW63253                764586.18      M  California  Corporate Auto   \n",
       "4  GA49547                536307.65      M  Washington   Personal Auto   \n",
       "\n",
       "   Vehicle_Class   Income  Total_Claim_Amount  Monthly_Premium_Auto  \n",
       "0  Four-Door Car      0.0            2.704934                1000.0  \n",
       "1  Four-Door Car      0.0         1131.464935                  94.0  \n",
       "2   Two-Door Car  48767.0          566.472247                 108.0  \n",
       "3            SUV      0.0          529.881344                 106.0  \n",
       "4  Four-Door Car  36357.0           17.269323                  68.0  "
      ]
     },
     "execution_count": 34,
     "metadata": {},
     "output_type": "execute_result"
    }
   ],
   "source": [
    "df.head(5)"
   ]
  },
  {
   "cell_type": "code",
   "execution_count": 35,
   "id": "ba239734-7469-46f3-8d7f-898f55e7416b",
   "metadata": {
    "tags": []
   },
   "outputs": [],
   "source": [
    "df['Customer_Lifetime_Value'] = df['Customer_Lifetime_Value'] * 100"
   ]
  },
  {
   "cell_type": "code",
   "execution_count": 36,
   "id": "8d74962e-099a-400f-89df-db74dc0fa834",
   "metadata": {
    "tags": []
   },
   "outputs": [
    {
     "data": {
      "text/html": [
       "<div>\n",
       "<style scoped>\n",
       "    .dataframe tbody tr th:only-of-type {\n",
       "        vertical-align: middle;\n",
       "    }\n",
       "\n",
       "    .dataframe tbody tr th {\n",
       "        vertical-align: top;\n",
       "    }\n",
       "\n",
       "    .dataframe thead th {\n",
       "        text-align: right;\n",
       "    }\n",
       "</style>\n",
       "<table border=\"1\" class=\"dataframe\">\n",
       "  <thead>\n",
       "    <tr style=\"text-align: right;\">\n",
       "      <th></th>\n",
       "      <th>Customer</th>\n",
       "      <th>Customer_Lifetime_Value</th>\n",
       "      <th>Gender</th>\n",
       "      <th>State</th>\n",
       "      <th>Policy_Type</th>\n",
       "      <th>Vehicle_Class</th>\n",
       "      <th>Income</th>\n",
       "      <th>Total_Claim_Amount</th>\n",
       "      <th>Monthly_Premium_Auto</th>\n",
       "    </tr>\n",
       "  </thead>\n",
       "  <tbody>\n",
       "    <tr>\n",
       "      <th>0</th>\n",
       "      <td>RB50392</td>\n",
       "      <td>NaN</td>\n",
       "      <td>NaN</td>\n",
       "      <td>Washington</td>\n",
       "      <td>Personal Auto</td>\n",
       "      <td>Four-Door Car</td>\n",
       "      <td>0.0</td>\n",
       "      <td>2.704934</td>\n",
       "      <td>1000.0</td>\n",
       "    </tr>\n",
       "    <tr>\n",
       "      <th>1</th>\n",
       "      <td>QZ44356</td>\n",
       "      <td>69795359.0</td>\n",
       "      <td>F</td>\n",
       "      <td>Arizona</td>\n",
       "      <td>Personal Auto</td>\n",
       "      <td>Four-Door Car</td>\n",
       "      <td>0.0</td>\n",
       "      <td>1131.464935</td>\n",
       "      <td>94.0</td>\n",
       "    </tr>\n",
       "    <tr>\n",
       "      <th>2</th>\n",
       "      <td>AI49188</td>\n",
       "      <td>128874317.0</td>\n",
       "      <td>F</td>\n",
       "      <td>Nevada</td>\n",
       "      <td>Personal Auto</td>\n",
       "      <td>Two-Door Car</td>\n",
       "      <td>48767.0</td>\n",
       "      <td>566.472247</td>\n",
       "      <td>108.0</td>\n",
       "    </tr>\n",
       "    <tr>\n",
       "      <th>3</th>\n",
       "      <td>WW63253</td>\n",
       "      <td>76458618.0</td>\n",
       "      <td>M</td>\n",
       "      <td>California</td>\n",
       "      <td>Corporate Auto</td>\n",
       "      <td>SUV</td>\n",
       "      <td>0.0</td>\n",
       "      <td>529.881344</td>\n",
       "      <td>106.0</td>\n",
       "    </tr>\n",
       "    <tr>\n",
       "      <th>4</th>\n",
       "      <td>GA49547</td>\n",
       "      <td>53630765.0</td>\n",
       "      <td>M</td>\n",
       "      <td>Washington</td>\n",
       "      <td>Personal Auto</td>\n",
       "      <td>Four-Door Car</td>\n",
       "      <td>36357.0</td>\n",
       "      <td>17.269323</td>\n",
       "      <td>68.0</td>\n",
       "    </tr>\n",
       "    <tr>\n",
       "      <th>5</th>\n",
       "      <td>OC83172</td>\n",
       "      <td>82562978.0</td>\n",
       "      <td>F</td>\n",
       "      <td>Oregon</td>\n",
       "      <td>Personal Auto</td>\n",
       "      <td>Two-Door Car</td>\n",
       "      <td>62902.0</td>\n",
       "      <td>159.383042</td>\n",
       "      <td>69.0</td>\n",
       "    </tr>\n",
       "    <tr>\n",
       "      <th>6</th>\n",
       "      <td>XZ87318</td>\n",
       "      <td>53808986.0</td>\n",
       "      <td>F</td>\n",
       "      <td>Oregon</td>\n",
       "      <td>Corporate Auto</td>\n",
       "      <td>Four-Door Car</td>\n",
       "      <td>55350.0</td>\n",
       "      <td>321.600000</td>\n",
       "      <td>67.0</td>\n",
       "    </tr>\n",
       "    <tr>\n",
       "      <th>7</th>\n",
       "      <td>CF85061</td>\n",
       "      <td>72161003.0</td>\n",
       "      <td>M</td>\n",
       "      <td>Arizona</td>\n",
       "      <td>Corporate Auto</td>\n",
       "      <td>Four-Door Car</td>\n",
       "      <td>0.0</td>\n",
       "      <td>363.029680</td>\n",
       "      <td>101.0</td>\n",
       "    </tr>\n",
       "    <tr>\n",
       "      <th>8</th>\n",
       "      <td>DY87989</td>\n",
       "      <td>241275040.0</td>\n",
       "      <td>M</td>\n",
       "      <td>Oregon</td>\n",
       "      <td>Corporate Auto</td>\n",
       "      <td>Four-Door Car</td>\n",
       "      <td>14072.0</td>\n",
       "      <td>511.200000</td>\n",
       "      <td>71.0</td>\n",
       "    </tr>\n",
       "    <tr>\n",
       "      <th>9</th>\n",
       "      <td>BQ94931</td>\n",
       "      <td>73881781.0</td>\n",
       "      <td>F</td>\n",
       "      <td>Oregon</td>\n",
       "      <td>Special Auto</td>\n",
       "      <td>Four-Door Car</td>\n",
       "      <td>28812.0</td>\n",
       "      <td>425.527834</td>\n",
       "      <td>93.0</td>\n",
       "    </tr>\n",
       "  </tbody>\n",
       "</table>\n",
       "</div>"
      ],
      "text/plain": [
       "  Customer  Customer_Lifetime_Value Gender       State     Policy_Type   \n",
       "0  RB50392                      NaN    NaN  Washington   Personal Auto  \\\n",
       "1  QZ44356               69795359.0      F     Arizona   Personal Auto   \n",
       "2  AI49188              128874317.0      F      Nevada   Personal Auto   \n",
       "3  WW63253               76458618.0      M  California  Corporate Auto   \n",
       "4  GA49547               53630765.0      M  Washington   Personal Auto   \n",
       "5  OC83172               82562978.0      F      Oregon   Personal Auto   \n",
       "6  XZ87318               53808986.0      F      Oregon  Corporate Auto   \n",
       "7  CF85061               72161003.0      M     Arizona  Corporate Auto   \n",
       "8  DY87989              241275040.0      M      Oregon  Corporate Auto   \n",
       "9  BQ94931               73881781.0      F      Oregon    Special Auto   \n",
       "\n",
       "   Vehicle_Class   Income  Total_Claim_Amount  Monthly_Premium_Auto  \n",
       "0  Four-Door Car      0.0            2.704934                1000.0  \n",
       "1  Four-Door Car      0.0         1131.464935                  94.0  \n",
       "2   Two-Door Car  48767.0          566.472247                 108.0  \n",
       "3            SUV      0.0          529.881344                 106.0  \n",
       "4  Four-Door Car  36357.0           17.269323                  68.0  \n",
       "5   Two-Door Car  62902.0          159.383042                  69.0  \n",
       "6  Four-Door Car  55350.0          321.600000                  67.0  \n",
       "7  Four-Door Car      0.0          363.029680                 101.0  \n",
       "8  Four-Door Car  14072.0          511.200000                  71.0  \n",
       "9  Four-Door Car  28812.0          425.527834                  93.0  "
      ]
     },
     "execution_count": 36,
     "metadata": {},
     "output_type": "execute_result"
    }
   ],
   "source": [
    "df.head(10)"
   ]
  },
  {
   "cell_type": "markdown",
   "id": "7c4e78ea-0138-4162-8e59-d2751dde93f0",
   "metadata": {},
   "source": [
    "    * Check for duplicate rows in the data and remove if any."
   ]
  },
  {
   "cell_type": "code",
   "execution_count": 37,
   "id": "a581213e-aec6-45e0-a310-085bb4fa323c",
   "metadata": {
    "tags": []
   },
   "outputs": [],
   "source": [
    "df.drop_duplicates(inplace=True)"
   ]
  },
  {
   "cell_type": "code",
   "execution_count": 39,
   "id": "578451d7-d538-43bb-9425-534048732ec9",
   "metadata": {
    "tags": []
   },
   "outputs": [
    {
     "data": {
      "text/plain": [
       "(9131, 9)"
      ]
     },
     "execution_count": 39,
     "metadata": {},
     "output_type": "execute_result"
    }
   ],
   "source": [
    "df.shape"
   ]
  },
  {
   "cell_type": "markdown",
   "id": "55b603b9-52f8-4236-b469-14d223a588dc",
   "metadata": {},
   "source": [
    "    * Filter out the data for customers who have an income of 0 or less."
   ]
  },
  {
   "cell_type": "code",
   "execution_count": 40,
   "id": "5824086b-02bb-4bab-bb83-fe2432f0371c",
   "metadata": {
    "tags": []
   },
   "outputs": [
    {
     "data": {
      "text/html": [
       "<div>\n",
       "<style scoped>\n",
       "    .dataframe tbody tr th:only-of-type {\n",
       "        vertical-align: middle;\n",
       "    }\n",
       "\n",
       "    .dataframe tbody tr th {\n",
       "        vertical-align: top;\n",
       "    }\n",
       "\n",
       "    .dataframe thead th {\n",
       "        text-align: right;\n",
       "    }\n",
       "</style>\n",
       "<table border=\"1\" class=\"dataframe\">\n",
       "  <thead>\n",
       "    <tr style=\"text-align: right;\">\n",
       "      <th></th>\n",
       "      <th>Customer</th>\n",
       "      <th>Customer_Lifetime_Value</th>\n",
       "      <th>Gender</th>\n",
       "      <th>State</th>\n",
       "      <th>Policy_Type</th>\n",
       "      <th>Vehicle_Class</th>\n",
       "      <th>Income</th>\n",
       "      <th>Total_Claim_Amount</th>\n",
       "      <th>Monthly_Premium_Auto</th>\n",
       "    </tr>\n",
       "  </thead>\n",
       "  <tbody>\n",
       "    <tr>\n",
       "      <th>0</th>\n",
       "      <td>RB50392</td>\n",
       "      <td>NaN</td>\n",
       "      <td>NaN</td>\n",
       "      <td>Washington</td>\n",
       "      <td>Personal Auto</td>\n",
       "      <td>Four-Door Car</td>\n",
       "      <td>0.0</td>\n",
       "      <td>2.704934</td>\n",
       "      <td>1000.0</td>\n",
       "    </tr>\n",
       "    <tr>\n",
       "      <th>1</th>\n",
       "      <td>QZ44356</td>\n",
       "      <td>69795359.0</td>\n",
       "      <td>F</td>\n",
       "      <td>Arizona</td>\n",
       "      <td>Personal Auto</td>\n",
       "      <td>Four-Door Car</td>\n",
       "      <td>0.0</td>\n",
       "      <td>1131.464935</td>\n",
       "      <td>94.0</td>\n",
       "    </tr>\n",
       "    <tr>\n",
       "      <th>3</th>\n",
       "      <td>WW63253</td>\n",
       "      <td>76458618.0</td>\n",
       "      <td>M</td>\n",
       "      <td>California</td>\n",
       "      <td>Corporate Auto</td>\n",
       "      <td>SUV</td>\n",
       "      <td>0.0</td>\n",
       "      <td>529.881344</td>\n",
       "      <td>106.0</td>\n",
       "    </tr>\n",
       "    <tr>\n",
       "      <th>7</th>\n",
       "      <td>CF85061</td>\n",
       "      <td>72161003.0</td>\n",
       "      <td>M</td>\n",
       "      <td>Arizona</td>\n",
       "      <td>Corporate Auto</td>\n",
       "      <td>Four-Door Car</td>\n",
       "      <td>0.0</td>\n",
       "      <td>363.029680</td>\n",
       "      <td>101.0</td>\n",
       "    </tr>\n",
       "    <tr>\n",
       "      <th>10</th>\n",
       "      <td>SX51350</td>\n",
       "      <td>47389920.0</td>\n",
       "      <td>M</td>\n",
       "      <td>California</td>\n",
       "      <td>Personal Auto</td>\n",
       "      <td>Four-Door Car</td>\n",
       "      <td>0.0</td>\n",
       "      <td>482.400000</td>\n",
       "      <td>67.0</td>\n",
       "    </tr>\n",
       "    <tr>\n",
       "      <th>...</th>\n",
       "      <td>...</td>\n",
       "      <td>...</td>\n",
       "      <td>...</td>\n",
       "      <td>...</td>\n",
       "      <td>...</td>\n",
       "      <td>...</td>\n",
       "      <td>...</td>\n",
       "      <td>...</td>\n",
       "      <td>...</td>\n",
       "    </tr>\n",
       "    <tr>\n",
       "      <th>7059</th>\n",
       "      <td>WZ45103</td>\n",
       "      <td>NaN</td>\n",
       "      <td>F</td>\n",
       "      <td>California</td>\n",
       "      <td>Personal Auto</td>\n",
       "      <td>Four-Door Car</td>\n",
       "      <td>0.0</td>\n",
       "      <td>364.800000</td>\n",
       "      <td>76.0</td>\n",
       "    </tr>\n",
       "    <tr>\n",
       "      <th>7061</th>\n",
       "      <td>RX91025</td>\n",
       "      <td>NaN</td>\n",
       "      <td>M</td>\n",
       "      <td>California</td>\n",
       "      <td>Personal Auto</td>\n",
       "      <td>SUV</td>\n",
       "      <td>0.0</td>\n",
       "      <td>1950.725547</td>\n",
       "      <td>185.0</td>\n",
       "    </tr>\n",
       "    <tr>\n",
       "      <th>7062</th>\n",
       "      <td>AC13887</td>\n",
       "      <td>NaN</td>\n",
       "      <td>M</td>\n",
       "      <td>California</td>\n",
       "      <td>Corporate Auto</td>\n",
       "      <td>Two-Door Car</td>\n",
       "      <td>0.0</td>\n",
       "      <td>482.400000</td>\n",
       "      <td>67.0</td>\n",
       "    </tr>\n",
       "    <tr>\n",
       "      <th>7067</th>\n",
       "      <td>TD14365</td>\n",
       "      <td>NaN</td>\n",
       "      <td>M</td>\n",
       "      <td>California</td>\n",
       "      <td>Corporate Auto</td>\n",
       "      <td>Four-Door Car</td>\n",
       "      <td>0.0</td>\n",
       "      <td>790.784983</td>\n",
       "      <td>85.0</td>\n",
       "    </tr>\n",
       "    <tr>\n",
       "      <th>7069</th>\n",
       "      <td>Y167826</td>\n",
       "      <td>NaN</td>\n",
       "      <td>M</td>\n",
       "      <td>California</td>\n",
       "      <td>Corporate Auto</td>\n",
       "      <td>Two-Door Car</td>\n",
       "      <td>0.0</td>\n",
       "      <td>369.600000</td>\n",
       "      <td>77.0</td>\n",
       "    </tr>\n",
       "  </tbody>\n",
       "</table>\n",
       "<p>2293 rows × 9 columns</p>\n",
       "</div>"
      ],
      "text/plain": [
       "     Customer  Customer_Lifetime_Value Gender       State     Policy_Type   \n",
       "0     RB50392                      NaN    NaN  Washington   Personal Auto  \\\n",
       "1     QZ44356               69795359.0      F     Arizona   Personal Auto   \n",
       "3     WW63253               76458618.0      M  California  Corporate Auto   \n",
       "7     CF85061               72161003.0      M     Arizona  Corporate Auto   \n",
       "10    SX51350               47389920.0      M  California   Personal Auto   \n",
       "...       ...                      ...    ...         ...             ...   \n",
       "7059  WZ45103                      NaN      F  California   Personal Auto   \n",
       "7061  RX91025                      NaN      M  California   Personal Auto   \n",
       "7062  AC13887                      NaN      M  California  Corporate Auto   \n",
       "7067  TD14365                      NaN      M  California  Corporate Auto   \n",
       "7069  Y167826                      NaN      M  California  Corporate Auto   \n",
       "\n",
       "      Vehicle_Class  Income  Total_Claim_Amount  Monthly_Premium_Auto  \n",
       "0     Four-Door Car     0.0            2.704934                1000.0  \n",
       "1     Four-Door Car     0.0         1131.464935                  94.0  \n",
       "3               SUV     0.0          529.881344                 106.0  \n",
       "7     Four-Door Car     0.0          363.029680                 101.0  \n",
       "10    Four-Door Car     0.0          482.400000                  67.0  \n",
       "...             ...     ...                 ...                   ...  \n",
       "7059  Four-Door Car     0.0          364.800000                  76.0  \n",
       "7061            SUV     0.0         1950.725547                 185.0  \n",
       "7062   Two-Door Car     0.0          482.400000                  67.0  \n",
       "7067  Four-Door Car     0.0          790.784983                  85.0  \n",
       "7069   Two-Door Car     0.0          369.600000                  77.0  \n",
       "\n",
       "[2293 rows x 9 columns]"
      ]
     },
     "execution_count": 40,
     "metadata": {},
     "output_type": "execute_result"
    }
   ],
   "source": [
    "df[df['Income'] <= 0]"
   ]
  },
  {
   "cell_type": "code",
   "execution_count": null,
   "id": "0ac29ce9-13aa-4f6e-a8a5-27100315bf26",
   "metadata": {},
   "outputs": [],
   "source": []
  }
 ],
 "metadata": {
  "kernelspec": {
   "display_name": "Python 3 (ipykernel)",
   "language": "python",
   "name": "python3"
  },
  "language_info": {
   "codemirror_mode": {
    "name": "ipython",
    "version": 3
   },
   "file_extension": ".py",
   "mimetype": "text/x-python",
   "name": "python",
   "nbconvert_exporter": "python",
   "pygments_lexer": "ipython3",
   "version": "3.9.2"
  }
 },
 "nbformat": 4,
 "nbformat_minor": 5
}
